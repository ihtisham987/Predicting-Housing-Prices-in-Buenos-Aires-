{
 "cells": [
  {
   "cell_type": "markdown",
   "id": "f4cf741a",
   "metadata": {},
   "source": [
    "### Importing Required libraries"
   ]
  },
  {
   "cell_type": "code",
   "execution_count": 1,
   "id": "21e892c2",
   "metadata": {},
   "outputs": [],
   "source": [
    "import numpy as np\n",
    "import pandas as pd\n",
    "import plotly.express as px\n",
    "import plotly.graph_objects as go\n",
    "from IPython.display import VimeoVideo\n",
    "from sklearn.impute import SimpleImputer\n",
    "from sklearn.linear_model import LinearRegression\n",
    "from sklearn.metrics import mean_absolute_error\n",
    "from sklearn.pipeline import Pipeline, make_pipeline\n",
    "from sklearn.utils.validation import check_is_fitted"
   ]
  },
  {
   "cell_type": "markdown",
   "id": "6663316b",
   "metadata": {},
   "source": [
    "### Data Wrangling"
   ]
  },
  {
   "cell_type": "code",
   "execution_count": 2,
   "id": "f232bc72",
   "metadata": {},
   "outputs": [],
   "source": [
    "def wrangle(filepath):\n",
    "    # Read CSV file\n",
    "    df = pd.read_csv(filepath)\n",
    "\n",
    "    # Subset data: Apartments in \"Capital Federal\", less than 400,000\n",
    "    mask_ba = df[\"place_with_parent_names\"].str.contains(\"Capital Federal\")\n",
    "    mask_apt = df[\"property_type\"] == \"apartment\"\n",
    "    mask_price = df[\"price_aprox_usd\"] < 400_000\n",
    "    df = df[mask_ba & mask_apt & mask_price]\n",
    "\n",
    "    # Subset data: Remove outliers for \"surface_covered_in_m2\"\n",
    "    low, high = df[\"surface_covered_in_m2\"].quantile([0.1, 0.9])\n",
    "    mask_area = df[\"surface_covered_in_m2\"].between(low, high)\n",
    "    df = df[mask_area]\n",
    "\n",
    "    # split the \"lat-lon\" col\n",
    "    df[[\"lat\",\"lon\"]] = df[\"lat-lon\"].str.split(\",\", expand= True).astype(float)\n",
    "    df.drop(columns= \"lat-lon\", inplace = True)\n",
    "    \n",
    "\n",
    "    return df"
   ]
  },
  {
   "cell_type": "markdown",
   "id": "0a30a697",
   "metadata": {},
   "source": [
    "### Import data"
   ]
  },
  {
   "cell_type": "code",
   "execution_count": 3,
   "id": "f48751b5",
   "metadata": {},
   "outputs": [
    {
     "name": "stdout",
     "output_type": "stream",
     "text": [
      "<class 'pandas.core.frame.DataFrame'>\n",
      "Index: 1343 entries, 4 to 8604\n",
      "Data columns (total 17 columns):\n",
      " #   Column                      Non-Null Count  Dtype  \n",
      "---  ------                      --------------  -----  \n",
      " 0   operation                   1343 non-null   object \n",
      " 1   property_type               1343 non-null   object \n",
      " 2   place_with_parent_names     1343 non-null   object \n",
      " 3   price                       1343 non-null   float64\n",
      " 4   currency                    1343 non-null   object \n",
      " 5   price_aprox_local_currency  1343 non-null   float64\n",
      " 6   price_aprox_usd             1343 non-null   float64\n",
      " 7   surface_total_in_m2         965 non-null    float64\n",
      " 8   surface_covered_in_m2       1343 non-null   float64\n",
      " 9   price_usd_per_m2            927 non-null    float64\n",
      " 10  price_per_m2                1343 non-null   float64\n",
      " 11  floor                       379 non-null    float64\n",
      " 12  rooms                       1078 non-null   float64\n",
      " 13  expenses                    349 non-null    float64\n",
      " 14  properati_url               1343 non-null   object \n",
      " 15  lat                         1300 non-null   float64\n",
      " 16  lon                         1300 non-null   float64\n",
      "dtypes: float64(12), object(5)\n",
      "memory usage: 188.9+ KB\n",
      "None\n"
     ]
    },
    {
     "data": {
      "text/html": [
       "<div>\n",
       "<style scoped>\n",
       "    .dataframe tbody tr th:only-of-type {\n",
       "        vertical-align: middle;\n",
       "    }\n",
       "\n",
       "    .dataframe tbody tr th {\n",
       "        vertical-align: top;\n",
       "    }\n",
       "\n",
       "    .dataframe thead th {\n",
       "        text-align: right;\n",
       "    }\n",
       "</style>\n",
       "<table border=\"1\" class=\"dataframe\">\n",
       "  <thead>\n",
       "    <tr style=\"text-align: right;\">\n",
       "      <th></th>\n",
       "      <th>operation</th>\n",
       "      <th>property_type</th>\n",
       "      <th>place_with_parent_names</th>\n",
       "      <th>price</th>\n",
       "      <th>currency</th>\n",
       "      <th>price_aprox_local_currency</th>\n",
       "      <th>price_aprox_usd</th>\n",
       "      <th>surface_total_in_m2</th>\n",
       "      <th>surface_covered_in_m2</th>\n",
       "      <th>price_usd_per_m2</th>\n",
       "      <th>price_per_m2</th>\n",
       "      <th>floor</th>\n",
       "      <th>rooms</th>\n",
       "      <th>expenses</th>\n",
       "      <th>properati_url</th>\n",
       "      <th>lat</th>\n",
       "      <th>lon</th>\n",
       "    </tr>\n",
       "  </thead>\n",
       "  <tbody>\n",
       "    <tr>\n",
       "      <th>4</th>\n",
       "      <td>sell</td>\n",
       "      <td>apartment</td>\n",
       "      <td>|Argentina|Capital Federal|Chacarita|</td>\n",
       "      <td>129000.0</td>\n",
       "      <td>USD</td>\n",
       "      <td>1955949.6</td>\n",
       "      <td>129000.0</td>\n",
       "      <td>76.0</td>\n",
       "      <td>70.0</td>\n",
       "      <td>1697.368421</td>\n",
       "      <td>1842.857143</td>\n",
       "      <td>NaN</td>\n",
       "      <td>NaN</td>\n",
       "      <td>NaN</td>\n",
       "      <td>http://chacarita.properati.com.ar/10qlv_venta_...</td>\n",
       "      <td>-34.584651</td>\n",
       "      <td>-58.454693</td>\n",
       "    </tr>\n",
       "    <tr>\n",
       "      <th>9</th>\n",
       "      <td>sell</td>\n",
       "      <td>apartment</td>\n",
       "      <td>|Argentina|Capital Federal|Villa Luro|</td>\n",
       "      <td>87000.0</td>\n",
       "      <td>USD</td>\n",
       "      <td>1319128.8</td>\n",
       "      <td>87000.0</td>\n",
       "      <td>48.0</td>\n",
       "      <td>42.0</td>\n",
       "      <td>1812.500000</td>\n",
       "      <td>2071.428571</td>\n",
       "      <td>NaN</td>\n",
       "      <td>NaN</td>\n",
       "      <td>NaN</td>\n",
       "      <td>http://villa-luro.properati.com.ar/12m82_venta...</td>\n",
       "      <td>-34.638979</td>\n",
       "      <td>-58.500115</td>\n",
       "    </tr>\n",
       "    <tr>\n",
       "      <th>29</th>\n",
       "      <td>sell</td>\n",
       "      <td>apartment</td>\n",
       "      <td>|Argentina|Capital Federal|Caballito|</td>\n",
       "      <td>118000.0</td>\n",
       "      <td>USD</td>\n",
       "      <td>1789163.2</td>\n",
       "      <td>118000.0</td>\n",
       "      <td>NaN</td>\n",
       "      <td>54.0</td>\n",
       "      <td>NaN</td>\n",
       "      <td>2185.185185</td>\n",
       "      <td>NaN</td>\n",
       "      <td>2.0</td>\n",
       "      <td>NaN</td>\n",
       "      <td>http://caballito.properati.com.ar/11wqh_venta_...</td>\n",
       "      <td>-34.615847</td>\n",
       "      <td>-58.459957</td>\n",
       "    </tr>\n",
       "    <tr>\n",
       "      <th>40</th>\n",
       "      <td>sell</td>\n",
       "      <td>apartment</td>\n",
       "      <td>|Argentina|Capital Federal|Constitución|</td>\n",
       "      <td>57000.0</td>\n",
       "      <td>USD</td>\n",
       "      <td>864256.8</td>\n",
       "      <td>57000.0</td>\n",
       "      <td>42.0</td>\n",
       "      <td>42.0</td>\n",
       "      <td>1357.142857</td>\n",
       "      <td>1357.142857</td>\n",
       "      <td>5.0</td>\n",
       "      <td>2.0</td>\n",
       "      <td>364.0</td>\n",
       "      <td>http://constitucion.properati.com.ar/k2f0_vent...</td>\n",
       "      <td>-34.625222</td>\n",
       "      <td>-58.382382</td>\n",
       "    </tr>\n",
       "    <tr>\n",
       "      <th>41</th>\n",
       "      <td>sell</td>\n",
       "      <td>apartment</td>\n",
       "      <td>|Argentina|Capital Federal|Once|</td>\n",
       "      <td>90000.0</td>\n",
       "      <td>USD</td>\n",
       "      <td>1364616.0</td>\n",
       "      <td>90000.0</td>\n",
       "      <td>57.0</td>\n",
       "      <td>50.0</td>\n",
       "      <td>1578.947368</td>\n",
       "      <td>1800.000000</td>\n",
       "      <td>NaN</td>\n",
       "      <td>3.0</td>\n",
       "      <td>450.0</td>\n",
       "      <td>http://once.properati.com.ar/suwa_venta_depart...</td>\n",
       "      <td>-34.610610</td>\n",
       "      <td>-58.412511</td>\n",
       "    </tr>\n",
       "  </tbody>\n",
       "</table>\n",
       "</div>"
      ],
      "text/plain": [
       "   operation property_type                   place_with_parent_names  \\\n",
       "4       sell     apartment     |Argentina|Capital Federal|Chacarita|   \n",
       "9       sell     apartment    |Argentina|Capital Federal|Villa Luro|   \n",
       "29      sell     apartment     |Argentina|Capital Federal|Caballito|   \n",
       "40      sell     apartment  |Argentina|Capital Federal|Constitución|   \n",
       "41      sell     apartment          |Argentina|Capital Federal|Once|   \n",
       "\n",
       "       price currency  price_aprox_local_currency  price_aprox_usd  \\\n",
       "4   129000.0      USD                   1955949.6         129000.0   \n",
       "9    87000.0      USD                   1319128.8          87000.0   \n",
       "29  118000.0      USD                   1789163.2         118000.0   \n",
       "40   57000.0      USD                    864256.8          57000.0   \n",
       "41   90000.0      USD                   1364616.0          90000.0   \n",
       "\n",
       "    surface_total_in_m2  surface_covered_in_m2  price_usd_per_m2  \\\n",
       "4                  76.0                   70.0       1697.368421   \n",
       "9                  48.0                   42.0       1812.500000   \n",
       "29                  NaN                   54.0               NaN   \n",
       "40                 42.0                   42.0       1357.142857   \n",
       "41                 57.0                   50.0       1578.947368   \n",
       "\n",
       "    price_per_m2  floor  rooms  expenses  \\\n",
       "4    1842.857143    NaN    NaN       NaN   \n",
       "9    2071.428571    NaN    NaN       NaN   \n",
       "29   2185.185185    NaN    2.0       NaN   \n",
       "40   1357.142857    5.0    2.0     364.0   \n",
       "41   1800.000000    NaN    3.0     450.0   \n",
       "\n",
       "                                        properati_url        lat        lon  \n",
       "4   http://chacarita.properati.com.ar/10qlv_venta_... -34.584651 -58.454693  \n",
       "9   http://villa-luro.properati.com.ar/12m82_venta... -34.638979 -58.500115  \n",
       "29  http://caballito.properati.com.ar/11wqh_venta_... -34.615847 -58.459957  \n",
       "40  http://constitucion.properati.com.ar/k2f0_vent... -34.625222 -58.382382  \n",
       "41  http://once.properati.com.ar/suwa_venta_depart... -34.610610 -58.412511  "
      ]
     },
     "execution_count": 3,
     "metadata": {},
     "output_type": "execute_result"
    }
   ],
   "source": [
    "frame1 = wrangle(\"data/buenos-aires-real-estate-1.csv\")\n",
    "print(frame1.info())\n",
    "frame1.head()"
   ]
  },
  {
   "cell_type": "code",
   "execution_count": 4,
   "id": "42a56ee9",
   "metadata": {},
   "outputs": [],
   "source": [
    "frame2 = wrangle(\"data/buenos-aires-real-estate-2.csv\")"
   ]
  },
  {
   "cell_type": "code",
   "execution_count": 5,
   "id": "0c7afbd7",
   "metadata": {},
   "outputs": [
    {
     "name": "stdout",
     "output_type": "stream",
     "text": [
      "<class 'pandas.core.frame.DataFrame'>\n",
      "RangeIndex: 2658 entries, 0 to 2657\n",
      "Data columns (total 17 columns):\n",
      " #   Column                      Non-Null Count  Dtype  \n",
      "---  ------                      --------------  -----  \n",
      " 0   operation                   2658 non-null   object \n",
      " 1   property_type               2658 non-null   object \n",
      " 2   place_with_parent_names     2658 non-null   object \n",
      " 3   price                       2658 non-null   float64\n",
      " 4   currency                    2658 non-null   object \n",
      " 5   price_aprox_local_currency  2658 non-null   float64\n",
      " 6   price_aprox_usd             2658 non-null   float64\n",
      " 7   surface_total_in_m2         1898 non-null   float64\n",
      " 8   surface_covered_in_m2       2658 non-null   float64\n",
      " 9   price_usd_per_m2            1818 non-null   float64\n",
      " 10  price_per_m2                2658 non-null   float64\n",
      " 11  floor                       769 non-null    float64\n",
      " 12  rooms                       2137 non-null   float64\n",
      " 13  expenses                    688 non-null    float64\n",
      " 14  properati_url               2658 non-null   object \n",
      " 15  lat                         2561 non-null   float64\n",
      " 16  lon                         2561 non-null   float64\n",
      "dtypes: float64(12), object(5)\n",
      "memory usage: 353.1+ KB\n",
      "None\n"
     ]
    },
    {
     "data": {
      "text/html": [
       "<div>\n",
       "<style scoped>\n",
       "    .dataframe tbody tr th:only-of-type {\n",
       "        vertical-align: middle;\n",
       "    }\n",
       "\n",
       "    .dataframe tbody tr th {\n",
       "        vertical-align: top;\n",
       "    }\n",
       "\n",
       "    .dataframe thead th {\n",
       "        text-align: right;\n",
       "    }\n",
       "</style>\n",
       "<table border=\"1\" class=\"dataframe\">\n",
       "  <thead>\n",
       "    <tr style=\"text-align: right;\">\n",
       "      <th></th>\n",
       "      <th>operation</th>\n",
       "      <th>property_type</th>\n",
       "      <th>place_with_parent_names</th>\n",
       "      <th>price</th>\n",
       "      <th>currency</th>\n",
       "      <th>price_aprox_local_currency</th>\n",
       "      <th>price_aprox_usd</th>\n",
       "      <th>surface_total_in_m2</th>\n",
       "      <th>surface_covered_in_m2</th>\n",
       "      <th>price_usd_per_m2</th>\n",
       "      <th>price_per_m2</th>\n",
       "      <th>floor</th>\n",
       "      <th>rooms</th>\n",
       "      <th>expenses</th>\n",
       "      <th>properati_url</th>\n",
       "      <th>lat</th>\n",
       "      <th>lon</th>\n",
       "    </tr>\n",
       "  </thead>\n",
       "  <tbody>\n",
       "    <tr>\n",
       "      <th>0</th>\n",
       "      <td>sell</td>\n",
       "      <td>apartment</td>\n",
       "      <td>|Argentina|Capital Federal|Chacarita|</td>\n",
       "      <td>129000.0</td>\n",
       "      <td>USD</td>\n",
       "      <td>1955949.6</td>\n",
       "      <td>129000.0</td>\n",
       "      <td>76.0</td>\n",
       "      <td>70.0</td>\n",
       "      <td>1697.368421</td>\n",
       "      <td>1842.857143</td>\n",
       "      <td>NaN</td>\n",
       "      <td>NaN</td>\n",
       "      <td>NaN</td>\n",
       "      <td>http://chacarita.properati.com.ar/10qlv_venta_...</td>\n",
       "      <td>-34.584651</td>\n",
       "      <td>-58.454693</td>\n",
       "    </tr>\n",
       "    <tr>\n",
       "      <th>1</th>\n",
       "      <td>sell</td>\n",
       "      <td>apartment</td>\n",
       "      <td>|Argentina|Capital Federal|Villa Luro|</td>\n",
       "      <td>87000.0</td>\n",
       "      <td>USD</td>\n",
       "      <td>1319128.8</td>\n",
       "      <td>87000.0</td>\n",
       "      <td>48.0</td>\n",
       "      <td>42.0</td>\n",
       "      <td>1812.500000</td>\n",
       "      <td>2071.428571</td>\n",
       "      <td>NaN</td>\n",
       "      <td>NaN</td>\n",
       "      <td>NaN</td>\n",
       "      <td>http://villa-luro.properati.com.ar/12m82_venta...</td>\n",
       "      <td>-34.638979</td>\n",
       "      <td>-58.500115</td>\n",
       "    </tr>\n",
       "    <tr>\n",
       "      <th>2</th>\n",
       "      <td>sell</td>\n",
       "      <td>apartment</td>\n",
       "      <td>|Argentina|Capital Federal|Caballito|</td>\n",
       "      <td>118000.0</td>\n",
       "      <td>USD</td>\n",
       "      <td>1789163.2</td>\n",
       "      <td>118000.0</td>\n",
       "      <td>NaN</td>\n",
       "      <td>54.0</td>\n",
       "      <td>NaN</td>\n",
       "      <td>2185.185185</td>\n",
       "      <td>NaN</td>\n",
       "      <td>2.0</td>\n",
       "      <td>NaN</td>\n",
       "      <td>http://caballito.properati.com.ar/11wqh_venta_...</td>\n",
       "      <td>-34.615847</td>\n",
       "      <td>-58.459957</td>\n",
       "    </tr>\n",
       "    <tr>\n",
       "      <th>3</th>\n",
       "      <td>sell</td>\n",
       "      <td>apartment</td>\n",
       "      <td>|Argentina|Capital Federal|Constitución|</td>\n",
       "      <td>57000.0</td>\n",
       "      <td>USD</td>\n",
       "      <td>864256.8</td>\n",
       "      <td>57000.0</td>\n",
       "      <td>42.0</td>\n",
       "      <td>42.0</td>\n",
       "      <td>1357.142857</td>\n",
       "      <td>1357.142857</td>\n",
       "      <td>5.0</td>\n",
       "      <td>2.0</td>\n",
       "      <td>364.0</td>\n",
       "      <td>http://constitucion.properati.com.ar/k2f0_vent...</td>\n",
       "      <td>-34.625222</td>\n",
       "      <td>-58.382382</td>\n",
       "    </tr>\n",
       "    <tr>\n",
       "      <th>4</th>\n",
       "      <td>sell</td>\n",
       "      <td>apartment</td>\n",
       "      <td>|Argentina|Capital Federal|Once|</td>\n",
       "      <td>90000.0</td>\n",
       "      <td>USD</td>\n",
       "      <td>1364616.0</td>\n",
       "      <td>90000.0</td>\n",
       "      <td>57.0</td>\n",
       "      <td>50.0</td>\n",
       "      <td>1578.947368</td>\n",
       "      <td>1800.000000</td>\n",
       "      <td>NaN</td>\n",
       "      <td>3.0</td>\n",
       "      <td>450.0</td>\n",
       "      <td>http://once.properati.com.ar/suwa_venta_depart...</td>\n",
       "      <td>-34.610610</td>\n",
       "      <td>-58.412511</td>\n",
       "    </tr>\n",
       "  </tbody>\n",
       "</table>\n",
       "</div>"
      ],
      "text/plain": [
       "  operation property_type                   place_with_parent_names     price  \\\n",
       "0      sell     apartment     |Argentina|Capital Federal|Chacarita|  129000.0   \n",
       "1      sell     apartment    |Argentina|Capital Federal|Villa Luro|   87000.0   \n",
       "2      sell     apartment     |Argentina|Capital Federal|Caballito|  118000.0   \n",
       "3      sell     apartment  |Argentina|Capital Federal|Constitución|   57000.0   \n",
       "4      sell     apartment          |Argentina|Capital Federal|Once|   90000.0   \n",
       "\n",
       "  currency  price_aprox_local_currency  price_aprox_usd  surface_total_in_m2  \\\n",
       "0      USD                   1955949.6         129000.0                 76.0   \n",
       "1      USD                   1319128.8          87000.0                 48.0   \n",
       "2      USD                   1789163.2         118000.0                  NaN   \n",
       "3      USD                    864256.8          57000.0                 42.0   \n",
       "4      USD                   1364616.0          90000.0                 57.0   \n",
       "\n",
       "   surface_covered_in_m2  price_usd_per_m2  price_per_m2  floor  rooms  \\\n",
       "0                   70.0       1697.368421   1842.857143    NaN    NaN   \n",
       "1                   42.0       1812.500000   2071.428571    NaN    NaN   \n",
       "2                   54.0               NaN   2185.185185    NaN    2.0   \n",
       "3                   42.0       1357.142857   1357.142857    5.0    2.0   \n",
       "4                   50.0       1578.947368   1800.000000    NaN    3.0   \n",
       "\n",
       "   expenses                                      properati_url        lat  \\\n",
       "0       NaN  http://chacarita.properati.com.ar/10qlv_venta_... -34.584651   \n",
       "1       NaN  http://villa-luro.properati.com.ar/12m82_venta... -34.638979   \n",
       "2       NaN  http://caballito.properati.com.ar/11wqh_venta_... -34.615847   \n",
       "3     364.0  http://constitucion.properati.com.ar/k2f0_vent... -34.625222   \n",
       "4     450.0  http://once.properati.com.ar/suwa_venta_depart... -34.610610   \n",
       "\n",
       "         lon  \n",
       "0 -58.454693  \n",
       "1 -58.500115  \n",
       "2 -58.459957  \n",
       "3 -58.382382  \n",
       "4 -58.412511  "
      ]
     },
     "execution_count": 5,
     "metadata": {},
     "output_type": "execute_result"
    }
   ],
   "source": [
    "df = pd.concat([frame1, frame2], ignore_index = True)\n",
    "print(df.info())\n",
    "df.head()"
   ]
  },
  {
   "cell_type": "markdown",
   "id": "22a4acb0",
   "metadata": {},
   "source": [
    "### Explore"
   ]
  },
  {
   "cell_type": "code",
   "execution_count": 6,
   "id": "74ba4acb",
   "metadata": {},
   "outputs": [
    {
     "name": "stdout",
     "output_type": "stream",
     "text": [
      "<class 'pandas.core.frame.DataFrame'>\n",
      "RangeIndex: 2658 entries, 0 to 2657\n",
      "Data columns (total 17 columns):\n",
      " #   Column                      Non-Null Count  Dtype  \n",
      "---  ------                      --------------  -----  \n",
      " 0   operation                   2658 non-null   object \n",
      " 1   property_type               2658 non-null   object \n",
      " 2   place_with_parent_names     2658 non-null   object \n",
      " 3   price                       2658 non-null   float64\n",
      " 4   currency                    2658 non-null   object \n",
      " 5   price_aprox_local_currency  2658 non-null   float64\n",
      " 6   price_aprox_usd             2658 non-null   float64\n",
      " 7   surface_total_in_m2         1898 non-null   float64\n",
      " 8   surface_covered_in_m2       2658 non-null   float64\n",
      " 9   price_usd_per_m2            1818 non-null   float64\n",
      " 10  price_per_m2                2658 non-null   float64\n",
      " 11  floor                       769 non-null    float64\n",
      " 12  rooms                       2137 non-null   float64\n",
      " 13  expenses                    688 non-null    float64\n",
      " 14  properati_url               2658 non-null   object \n",
      " 15  lat                         2561 non-null   float64\n",
      " 16  lon                         2561 non-null   float64\n",
      "dtypes: float64(12), object(5)\n",
      "memory usage: 353.1+ KB\n",
      "None\n"
     ]
    },
    {
     "data": {
      "text/html": [
       "<div>\n",
       "<style scoped>\n",
       "    .dataframe tbody tr th:only-of-type {\n",
       "        vertical-align: middle;\n",
       "    }\n",
       "\n",
       "    .dataframe tbody tr th {\n",
       "        vertical-align: top;\n",
       "    }\n",
       "\n",
       "    .dataframe thead th {\n",
       "        text-align: right;\n",
       "    }\n",
       "</style>\n",
       "<table border=\"1\" class=\"dataframe\">\n",
       "  <thead>\n",
       "    <tr style=\"text-align: right;\">\n",
       "      <th></th>\n",
       "      <th>operation</th>\n",
       "      <th>property_type</th>\n",
       "      <th>place_with_parent_names</th>\n",
       "      <th>price</th>\n",
       "      <th>currency</th>\n",
       "      <th>price_aprox_local_currency</th>\n",
       "      <th>price_aprox_usd</th>\n",
       "      <th>surface_total_in_m2</th>\n",
       "      <th>surface_covered_in_m2</th>\n",
       "      <th>price_usd_per_m2</th>\n",
       "      <th>price_per_m2</th>\n",
       "      <th>floor</th>\n",
       "      <th>rooms</th>\n",
       "      <th>expenses</th>\n",
       "      <th>properati_url</th>\n",
       "      <th>lat</th>\n",
       "      <th>lon</th>\n",
       "    </tr>\n",
       "  </thead>\n",
       "  <tbody>\n",
       "    <tr>\n",
       "      <th>0</th>\n",
       "      <td>sell</td>\n",
       "      <td>apartment</td>\n",
       "      <td>|Argentina|Capital Federal|Chacarita|</td>\n",
       "      <td>129000.0</td>\n",
       "      <td>USD</td>\n",
       "      <td>1955949.6</td>\n",
       "      <td>129000.0</td>\n",
       "      <td>76.0</td>\n",
       "      <td>70.0</td>\n",
       "      <td>1697.368421</td>\n",
       "      <td>1842.857143</td>\n",
       "      <td>NaN</td>\n",
       "      <td>NaN</td>\n",
       "      <td>NaN</td>\n",
       "      <td>http://chacarita.properati.com.ar/10qlv_venta_...</td>\n",
       "      <td>-34.584651</td>\n",
       "      <td>-58.454693</td>\n",
       "    </tr>\n",
       "    <tr>\n",
       "      <th>1</th>\n",
       "      <td>sell</td>\n",
       "      <td>apartment</td>\n",
       "      <td>|Argentina|Capital Federal|Villa Luro|</td>\n",
       "      <td>87000.0</td>\n",
       "      <td>USD</td>\n",
       "      <td>1319128.8</td>\n",
       "      <td>87000.0</td>\n",
       "      <td>48.0</td>\n",
       "      <td>42.0</td>\n",
       "      <td>1812.500000</td>\n",
       "      <td>2071.428571</td>\n",
       "      <td>NaN</td>\n",
       "      <td>NaN</td>\n",
       "      <td>NaN</td>\n",
       "      <td>http://villa-luro.properati.com.ar/12m82_venta...</td>\n",
       "      <td>-34.638979</td>\n",
       "      <td>-58.500115</td>\n",
       "    </tr>\n",
       "    <tr>\n",
       "      <th>2</th>\n",
       "      <td>sell</td>\n",
       "      <td>apartment</td>\n",
       "      <td>|Argentina|Capital Federal|Caballito|</td>\n",
       "      <td>118000.0</td>\n",
       "      <td>USD</td>\n",
       "      <td>1789163.2</td>\n",
       "      <td>118000.0</td>\n",
       "      <td>NaN</td>\n",
       "      <td>54.0</td>\n",
       "      <td>NaN</td>\n",
       "      <td>2185.185185</td>\n",
       "      <td>NaN</td>\n",
       "      <td>2.0</td>\n",
       "      <td>NaN</td>\n",
       "      <td>http://caballito.properati.com.ar/11wqh_venta_...</td>\n",
       "      <td>-34.615847</td>\n",
       "      <td>-58.459957</td>\n",
       "    </tr>\n",
       "    <tr>\n",
       "      <th>3</th>\n",
       "      <td>sell</td>\n",
       "      <td>apartment</td>\n",
       "      <td>|Argentina|Capital Federal|Constitución|</td>\n",
       "      <td>57000.0</td>\n",
       "      <td>USD</td>\n",
       "      <td>864256.8</td>\n",
       "      <td>57000.0</td>\n",
       "      <td>42.0</td>\n",
       "      <td>42.0</td>\n",
       "      <td>1357.142857</td>\n",
       "      <td>1357.142857</td>\n",
       "      <td>5.0</td>\n",
       "      <td>2.0</td>\n",
       "      <td>364.0</td>\n",
       "      <td>http://constitucion.properati.com.ar/k2f0_vent...</td>\n",
       "      <td>-34.625222</td>\n",
       "      <td>-58.382382</td>\n",
       "    </tr>\n",
       "    <tr>\n",
       "      <th>4</th>\n",
       "      <td>sell</td>\n",
       "      <td>apartment</td>\n",
       "      <td>|Argentina|Capital Federal|Once|</td>\n",
       "      <td>90000.0</td>\n",
       "      <td>USD</td>\n",
       "      <td>1364616.0</td>\n",
       "      <td>90000.0</td>\n",
       "      <td>57.0</td>\n",
       "      <td>50.0</td>\n",
       "      <td>1578.947368</td>\n",
       "      <td>1800.000000</td>\n",
       "      <td>NaN</td>\n",
       "      <td>3.0</td>\n",
       "      <td>450.0</td>\n",
       "      <td>http://once.properati.com.ar/suwa_venta_depart...</td>\n",
       "      <td>-34.610610</td>\n",
       "      <td>-58.412511</td>\n",
       "    </tr>\n",
       "  </tbody>\n",
       "</table>\n",
       "</div>"
      ],
      "text/plain": [
       "  operation property_type                   place_with_parent_names     price  \\\n",
       "0      sell     apartment     |Argentina|Capital Federal|Chacarita|  129000.0   \n",
       "1      sell     apartment    |Argentina|Capital Federal|Villa Luro|   87000.0   \n",
       "2      sell     apartment     |Argentina|Capital Federal|Caballito|  118000.0   \n",
       "3      sell     apartment  |Argentina|Capital Federal|Constitución|   57000.0   \n",
       "4      sell     apartment          |Argentina|Capital Federal|Once|   90000.0   \n",
       "\n",
       "  currency  price_aprox_local_currency  price_aprox_usd  surface_total_in_m2  \\\n",
       "0      USD                   1955949.6         129000.0                 76.0   \n",
       "1      USD                   1319128.8          87000.0                 48.0   \n",
       "2      USD                   1789163.2         118000.0                  NaN   \n",
       "3      USD                    864256.8          57000.0                 42.0   \n",
       "4      USD                   1364616.0          90000.0                 57.0   \n",
       "\n",
       "   surface_covered_in_m2  price_usd_per_m2  price_per_m2  floor  rooms  \\\n",
       "0                   70.0       1697.368421   1842.857143    NaN    NaN   \n",
       "1                   42.0       1812.500000   2071.428571    NaN    NaN   \n",
       "2                   54.0               NaN   2185.185185    NaN    2.0   \n",
       "3                   42.0       1357.142857   1357.142857    5.0    2.0   \n",
       "4                   50.0       1578.947368   1800.000000    NaN    3.0   \n",
       "\n",
       "   expenses                                      properati_url        lat  \\\n",
       "0       NaN  http://chacarita.properati.com.ar/10qlv_venta_... -34.584651   \n",
       "1       NaN  http://villa-luro.properati.com.ar/12m82_venta... -34.638979   \n",
       "2       NaN  http://caballito.properati.com.ar/11wqh_venta_... -34.615847   \n",
       "3     364.0  http://constitucion.properati.com.ar/k2f0_vent... -34.625222   \n",
       "4     450.0  http://once.properati.com.ar/suwa_venta_depart... -34.610610   \n",
       "\n",
       "         lon  \n",
       "0 -58.454693  \n",
       "1 -58.500115  \n",
       "2 -58.459957  \n",
       "3 -58.382382  \n",
       "4 -58.412511  "
      ]
     },
     "execution_count": 6,
     "metadata": {},
     "output_type": "execute_result"
    }
   ],
   "source": [
    "df = pd.concat([frame1, frame2], ignore_index = True)\n",
    "print(df.info())\n",
    "df.head()"
   ]
  },
  {
   "cell_type": "markdown",
   "id": "1b06cb47",
   "metadata": {},
   "source": [
    "### Scatter Mapbox plot"
   ]
  },
  {
   "cell_type": "code",
   "execution_count": 17,
   "id": "e5fa5773",
   "metadata": {},
   "outputs": [
    {
     "name": "stderr",
     "output_type": "stream",
     "text": [
      "C:\\Users\\hp\\AppData\\Local\\Temp\\ipykernel_1372\\2936338015.py:1: DeprecationWarning:\n",
      "\n",
      "*scatter_mapbox* is deprecated! Use *scatter_map* instead. Learn more at: https://plotly.com/python/mapbox-to-maplibre/\n",
      "\n"
     ]
    },
    {
     "data": {
      "application/vnd.plotly.v1+json": {
       "config": {
        "plotlyServerURL": "https://plot.ly"
       },
       "data": [
        {
         "customdata": {
          "bdata": "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",
          "dtype": "f8",
          "shape": "2658, 1"
         },
         "hovertemplate": "lat=%{lat}<br>lon=%{lon}<br>price_aprox_usd=%{marker.color}<extra></extra>",
         "lat": {
          "bdata": "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",
          "dtype": "f8"
         },
         "legendgroup": "",
         "lon": {
          "bdata": "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",
          "dtype": "f8"
         },
         "marker": {
          "color": {
           "bdata": "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",
           "dtype": "f8"
          },
          "coloraxis": "coloraxis"
         },
         "mode": "markers",
         "name": "",
         "showlegend": false,
         "subplot": "mapbox",
         "type": "scattermapbox"
        }
       ],
       "layout": {
        "coloraxis": {
         "colorbar": {
          "title": {
           "text": "price_aprox_usd"
          }
         },
         "colorscale": [
          [
           0,
           "#0d0887"
          ],
          [
           0.1111111111111111,
           "#46039f"
          ],
          [
           0.2222222222222222,
           "#7201a8"
          ],
          [
           0.3333333333333333,
           "#9c179e"
          ],
          [
           0.4444444444444444,
           "#bd3786"
          ],
          [
           0.5555555555555556,
           "#d8576b"
          ],
          [
           0.6666666666666666,
           "#ed7953"
          ],
          [
           0.7777777777777778,
           "#fb9f3a"
          ],
          [
           0.8888888888888888,
           "#fdca26"
          ],
          [
           1,
           "#f0f921"
          ]
         ]
        },
        "height": 550,
        "legend": {
         "tracegroupgap": 0
        },
        "mapbox": {
         "center": {
          "lat": -34.598285911342714,
          "lon": -58.43656524777384
         },
         "domain": {
          "x": [
           0,
           1
          ],
          "y": [
           0,
           1
          ]
         },
         "style": "open-street-map",
         "zoom": 8
        },
        "margin": {
         "t": 60
        },
        "template": {
         "data": {
          "bar": [
           {
            "error_x": {
             "color": "#2a3f5f"
            },
            "error_y": {
             "color": "#2a3f5f"
            },
            "marker": {
             "line": {
              "color": "#E5ECF6",
              "width": 0.5
             },
             "pattern": {
              "fillmode": "overlay",
              "size": 10,
              "solidity": 0.2
             }
            },
            "type": "bar"
           }
          ],
          "barpolar": [
           {
            "marker": {
             "line": {
              "color": "#E5ECF6",
              "width": 0.5
             },
             "pattern": {
              "fillmode": "overlay",
              "size": 10,
              "solidity": 0.2
             }
            },
            "type": "barpolar"
           }
          ],
          "carpet": [
           {
            "aaxis": {
             "endlinecolor": "#2a3f5f",
             "gridcolor": "white",
             "linecolor": "white",
             "minorgridcolor": "white",
             "startlinecolor": "#2a3f5f"
            },
            "baxis": {
             "endlinecolor": "#2a3f5f",
             "gridcolor": "white",
             "linecolor": "white",
             "minorgridcolor": "white",
             "startlinecolor": "#2a3f5f"
            },
            "type": "carpet"
           }
          ],
          "choropleth": [
           {
            "colorbar": {
             "outlinewidth": 0,
             "ticks": ""
            },
            "type": "choropleth"
           }
          ],
          "contour": [
           {
            "colorbar": {
             "outlinewidth": 0,
             "ticks": ""
            },
            "colorscale": [
             [
              0,
              "#0d0887"
             ],
             [
              0.1111111111111111,
              "#46039f"
             ],
             [
              0.2222222222222222,
              "#7201a8"
             ],
             [
              0.3333333333333333,
              "#9c179e"
             ],
             [
              0.4444444444444444,
              "#bd3786"
             ],
             [
              0.5555555555555556,
              "#d8576b"
             ],
             [
              0.6666666666666666,
              "#ed7953"
             ],
             [
              0.7777777777777778,
              "#fb9f3a"
             ],
             [
              0.8888888888888888,
              "#fdca26"
             ],
             [
              1,
              "#f0f921"
             ]
            ],
            "type": "contour"
           }
          ],
          "contourcarpet": [
           {
            "colorbar": {
             "outlinewidth": 0,
             "ticks": ""
            },
            "type": "contourcarpet"
           }
          ],
          "heatmap": [
           {
            "colorbar": {
             "outlinewidth": 0,
             "ticks": ""
            },
            "colorscale": [
             [
              0,
              "#0d0887"
             ],
             [
              0.1111111111111111,
              "#46039f"
             ],
             [
              0.2222222222222222,
              "#7201a8"
             ],
             [
              0.3333333333333333,
              "#9c179e"
             ],
             [
              0.4444444444444444,
              "#bd3786"
             ],
             [
              0.5555555555555556,
              "#d8576b"
             ],
             [
              0.6666666666666666,
              "#ed7953"
             ],
             [
              0.7777777777777778,
              "#fb9f3a"
             ],
             [
              0.8888888888888888,
              "#fdca26"
             ],
             [
              1,
              "#f0f921"
             ]
            ],
            "type": "heatmap"
           }
          ],
          "histogram": [
           {
            "marker": {
             "pattern": {
              "fillmode": "overlay",
              "size": 10,
              "solidity": 0.2
             }
            },
            "type": "histogram"
           }
          ],
          "histogram2d": [
           {
            "colorbar": {
             "outlinewidth": 0,
             "ticks": ""
            },
            "colorscale": [
             [
              0,
              "#0d0887"
             ],
             [
              0.1111111111111111,
              "#46039f"
             ],
             [
              0.2222222222222222,
              "#7201a8"
             ],
             [
              0.3333333333333333,
              "#9c179e"
             ],
             [
              0.4444444444444444,
              "#bd3786"
             ],
             [
              0.5555555555555556,
              "#d8576b"
             ],
             [
              0.6666666666666666,
              "#ed7953"
             ],
             [
              0.7777777777777778,
              "#fb9f3a"
             ],
             [
              0.8888888888888888,
              "#fdca26"
             ],
             [
              1,
              "#f0f921"
             ]
            ],
            "type": "histogram2d"
           }
          ],
          "histogram2dcontour": [
           {
            "colorbar": {
             "outlinewidth": 0,
             "ticks": ""
            },
            "colorscale": [
             [
              0,
              "#0d0887"
             ],
             [
              0.1111111111111111,
              "#46039f"
             ],
             [
              0.2222222222222222,
              "#7201a8"
             ],
             [
              0.3333333333333333,
              "#9c179e"
             ],
             [
              0.4444444444444444,
              "#bd3786"
             ],
             [
              0.5555555555555556,
              "#d8576b"
             ],
             [
              0.6666666666666666,
              "#ed7953"
             ],
             [
              0.7777777777777778,
              "#fb9f3a"
             ],
             [
              0.8888888888888888,
              "#fdca26"
             ],
             [
              1,
              "#f0f921"
             ]
            ],
            "type": "histogram2dcontour"
           }
          ],
          "mesh3d": [
           {
            "colorbar": {
             "outlinewidth": 0,
             "ticks": ""
            },
            "type": "mesh3d"
           }
          ],
          "parcoords": [
           {
            "line": {
             "colorbar": {
              "outlinewidth": 0,
              "ticks": ""
             }
            },
            "type": "parcoords"
           }
          ],
          "pie": [
           {
            "automargin": true,
            "type": "pie"
           }
          ],
          "scatter": [
           {
            "fillpattern": {
             "fillmode": "overlay",
             "size": 10,
             "solidity": 0.2
            },
            "type": "scatter"
           }
          ],
          "scatter3d": [
           {
            "line": {
             "colorbar": {
              "outlinewidth": 0,
              "ticks": ""
             }
            },
            "marker": {
             "colorbar": {
              "outlinewidth": 0,
              "ticks": ""
             }
            },
            "type": "scatter3d"
           }
          ],
          "scattercarpet": [
           {
            "marker": {
             "colorbar": {
              "outlinewidth": 0,
              "ticks": ""
             }
            },
            "type": "scattercarpet"
           }
          ],
          "scattergeo": [
           {
            "marker": {
             "colorbar": {
              "outlinewidth": 0,
              "ticks": ""
             }
            },
            "type": "scattergeo"
           }
          ],
          "scattergl": [
           {
            "marker": {
             "colorbar": {
              "outlinewidth": 0,
              "ticks": ""
             }
            },
            "type": "scattergl"
           }
          ],
          "scattermap": [
           {
            "marker": {
             "colorbar": {
              "outlinewidth": 0,
              "ticks": ""
             }
            },
            "type": "scattermap"
           }
          ],
          "scattermapbox": [
           {
            "marker": {
             "colorbar": {
              "outlinewidth": 0,
              "ticks": ""
             }
            },
            "type": "scattermapbox"
           }
          ],
          "scatterpolar": [
           {
            "marker": {
             "colorbar": {
              "outlinewidth": 0,
              "ticks": ""
             }
            },
            "type": "scatterpolar"
           }
          ],
          "scatterpolargl": [
           {
            "marker": {
             "colorbar": {
              "outlinewidth": 0,
              "ticks": ""
             }
            },
            "type": "scatterpolargl"
           }
          ],
          "scatterternary": [
           {
            "marker": {
             "colorbar": {
              "outlinewidth": 0,
              "ticks": ""
             }
            },
            "type": "scatterternary"
           }
          ],
          "surface": [
           {
            "colorbar": {
             "outlinewidth": 0,
             "ticks": ""
            },
            "colorscale": [
             [
              0,
              "#0d0887"
             ],
             [
              0.1111111111111111,
              "#46039f"
             ],
             [
              0.2222222222222222,
              "#7201a8"
             ],
             [
              0.3333333333333333,
              "#9c179e"
             ],
             [
              0.4444444444444444,
              "#bd3786"
             ],
             [
              0.5555555555555556,
              "#d8576b"
             ],
             [
              0.6666666666666666,
              "#ed7953"
             ],
             [
              0.7777777777777778,
              "#fb9f3a"
             ],
             [
              0.8888888888888888,
              "#fdca26"
             ],
             [
              1,
              "#f0f921"
             ]
            ],
            "type": "surface"
           }
          ],
          "table": [
           {
            "cells": {
             "fill": {
              "color": "#EBF0F8"
             },
             "line": {
              "color": "white"
             }
            },
            "header": {
             "fill": {
              "color": "#C8D4E3"
             },
             "line": {
              "color": "white"
             }
            },
            "type": "table"
           }
          ]
         },
         "layout": {
          "annotationdefaults": {
           "arrowcolor": "#2a3f5f",
           "arrowhead": 0,
           "arrowwidth": 1
          },
          "autotypenumbers": "strict",
          "coloraxis": {
           "colorbar": {
            "outlinewidth": 0,
            "ticks": ""
           }
          },
          "colorscale": {
           "diverging": [
            [
             0,
             "#8e0152"
            ],
            [
             0.1,
             "#c51b7d"
            ],
            [
             0.2,
             "#de77ae"
            ],
            [
             0.3,
             "#f1b6da"
            ],
            [
             0.4,
             "#fde0ef"
            ],
            [
             0.5,
             "#f7f7f7"
            ],
            [
             0.6,
             "#e6f5d0"
            ],
            [
             0.7,
             "#b8e186"
            ],
            [
             0.8,
             "#7fbc41"
            ],
            [
             0.9,
             "#4d9221"
            ],
            [
             1,
             "#276419"
            ]
           ],
           "sequential": [
            [
             0,
             "#0d0887"
            ],
            [
             0.1111111111111111,
             "#46039f"
            ],
            [
             0.2222222222222222,
             "#7201a8"
            ],
            [
             0.3333333333333333,
             "#9c179e"
            ],
            [
             0.4444444444444444,
             "#bd3786"
            ],
            [
             0.5555555555555556,
             "#d8576b"
            ],
            [
             0.6666666666666666,
             "#ed7953"
            ],
            [
             0.7777777777777778,
             "#fb9f3a"
            ],
            [
             0.8888888888888888,
             "#fdca26"
            ],
            [
             1,
             "#f0f921"
            ]
           ],
           "sequentialminus": [
            [
             0,
             "#0d0887"
            ],
            [
             0.1111111111111111,
             "#46039f"
            ],
            [
             0.2222222222222222,
             "#7201a8"
            ],
            [
             0.3333333333333333,
             "#9c179e"
            ],
            [
             0.4444444444444444,
             "#bd3786"
            ],
            [
             0.5555555555555556,
             "#d8576b"
            ],
            [
             0.6666666666666666,
             "#ed7953"
            ],
            [
             0.7777777777777778,
             "#fb9f3a"
            ],
            [
             0.8888888888888888,
             "#fdca26"
            ],
            [
             1,
             "#f0f921"
            ]
           ]
          },
          "colorway": [
           "#636efa",
           "#EF553B",
           "#00cc96",
           "#ab63fa",
           "#FFA15A",
           "#19d3f3",
           "#FF6692",
           "#B6E880",
           "#FF97FF",
           "#FECB52"
          ],
          "font": {
           "color": "#2a3f5f"
          },
          "geo": {
           "bgcolor": "white",
           "lakecolor": "white",
           "landcolor": "#E5ECF6",
           "showlakes": true,
           "showland": true,
           "subunitcolor": "white"
          },
          "hoverlabel": {
           "align": "left"
          },
          "hovermode": "closest",
          "mapbox": {
           "style": "light"
          },
          "paper_bgcolor": "white",
          "plot_bgcolor": "#E5ECF6",
          "polar": {
           "angularaxis": {
            "gridcolor": "white",
            "linecolor": "white",
            "ticks": ""
           },
           "bgcolor": "#E5ECF6",
           "radialaxis": {
            "gridcolor": "white",
            "linecolor": "white",
            "ticks": ""
           }
          },
          "scene": {
           "xaxis": {
            "backgroundcolor": "#E5ECF6",
            "gridcolor": "white",
            "gridwidth": 2,
            "linecolor": "white",
            "showbackground": true,
            "ticks": "",
            "zerolinecolor": "white"
           },
           "yaxis": {
            "backgroundcolor": "#E5ECF6",
            "gridcolor": "white",
            "gridwidth": 2,
            "linecolor": "white",
            "showbackground": true,
            "ticks": "",
            "zerolinecolor": "white"
           },
           "zaxis": {
            "backgroundcolor": "#E5ECF6",
            "gridcolor": "white",
            "gridwidth": 2,
            "linecolor": "white",
            "showbackground": true,
            "ticks": "",
            "zerolinecolor": "white"
           }
          },
          "shapedefaults": {
           "line": {
            "color": "#2a3f5f"
           }
          },
          "ternary": {
           "aaxis": {
            "gridcolor": "white",
            "linecolor": "white",
            "ticks": ""
           },
           "baxis": {
            "gridcolor": "white",
            "linecolor": "white",
            "ticks": ""
           },
           "bgcolor": "#E5ECF6",
           "caxis": {
            "gridcolor": "white",
            "linecolor": "white",
            "ticks": ""
           }
          },
          "title": {
           "x": 0.05
          },
          "xaxis": {
           "automargin": true,
           "gridcolor": "white",
           "linecolor": "white",
           "ticks": "",
           "title": {
            "standoff": 15
           },
           "zerolinecolor": "white",
           "zerolinewidth": 2
          },
          "yaxis": {
           "automargin": true,
           "gridcolor": "white",
           "linecolor": "white",
           "ticks": "",
           "title": {
            "standoff": 15
           },
           "zerolinecolor": "white",
           "zerolinewidth": 2
          }
         }
        },
        "width": 550
       }
      }
     },
     "metadata": {},
     "output_type": "display_data"
    }
   ],
   "source": [
    "fig = px.scatter_mapbox(\n",
    "    df,  # Our DataFrame\n",
    "    lat=\"lat\",\n",
    "    lon=\"lon\",\n",
    "    width=550 ,\n",
    "    height=550,  # Height of map\n",
    "    color=\"price_aprox_usd\",\n",
    "    hover_data=[\"price_aprox_usd\"],  # Display price when hovering mouse over house\n",
    ")\n",
    "\n",
    "fig.update_layout(mapbox_style=\"open-street-map\")\n",
    "\n",
    "fig.show()"
   ]
  },
  {
   "cell_type": "markdown",
   "id": "eed060fe",
   "metadata": {},
   "source": [
    "### 3D plot"
   ]
  },
  {
   "cell_type": "code",
   "execution_count": 14,
   "id": "a0d73eaf",
   "metadata": {},
   "outputs": [
    {
     "data": {
      "application/vnd.plotly.v1+json": {
       "config": {
        "plotlyServerURL": "https://plot.ly"
       },
       "data": [
        {
         "hovertemplate": "latitude=%{x}<br>longitude=%{y}<br>price=%{z}<extra></extra>",
         "legendgroup": "",
         "marker": {
          "color": "#636efa",
          "line": {
           "color": "DarkSlateGrey",
           "width": 2
          },
          "size": 4,
          "symbol": "circle"
         },
         "mode": "markers",
         "name": "",
         "scene": "scene",
         "showlegend": false,
         "type": "scatter3d",
         "x": {
          "bdata": "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",
          "dtype": "f8"
         },
         "y": {
          "bdata": "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",
          "dtype": "f8"
         },
         "z": {
          "bdata": "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",
          "dtype": "f8"
         }
        }
       ],
       "layout": {
        "height": 500,
        "legend": {
         "tracegroupgap": 0
        },
        "margin": {
         "t": 60
        },
        "scene": {
         "domain": {
          "x": [
           0,
           1
          ],
          "y": [
           0,
           1
          ]
         },
         "xaxis": {
          "title": {
           "text": "latitude"
          }
         },
         "yaxis": {
          "title": {
           "text": "longitude"
          }
         },
         "zaxis": {
          "title": {
           "text": "price"
          }
         }
        },
        "template": {
         "data": {
          "bar": [
           {
            "error_x": {
             "color": "#2a3f5f"
            },
            "error_y": {
             "color": "#2a3f5f"
            },
            "marker": {
             "line": {
              "color": "#E5ECF6",
              "width": 0.5
             },
             "pattern": {
              "fillmode": "overlay",
              "size": 10,
              "solidity": 0.2
             }
            },
            "type": "bar"
           }
          ],
          "barpolar": [
           {
            "marker": {
             "line": {
              "color": "#E5ECF6",
              "width": 0.5
             },
             "pattern": {
              "fillmode": "overlay",
              "size": 10,
              "solidity": 0.2
             }
            },
            "type": "barpolar"
           }
          ],
          "carpet": [
           {
            "aaxis": {
             "endlinecolor": "#2a3f5f",
             "gridcolor": "white",
             "linecolor": "white",
             "minorgridcolor": "white",
             "startlinecolor": "#2a3f5f"
            },
            "baxis": {
             "endlinecolor": "#2a3f5f",
             "gridcolor": "white",
             "linecolor": "white",
             "minorgridcolor": "white",
             "startlinecolor": "#2a3f5f"
            },
            "type": "carpet"
           }
          ],
          "choropleth": [
           {
            "colorbar": {
             "outlinewidth": 0,
             "ticks": ""
            },
            "type": "choropleth"
           }
          ],
          "contour": [
           {
            "colorbar": {
             "outlinewidth": 0,
             "ticks": ""
            },
            "colorscale": [
             [
              0,
              "#0d0887"
             ],
             [
              0.1111111111111111,
              "#46039f"
             ],
             [
              0.2222222222222222,
              "#7201a8"
             ],
             [
              0.3333333333333333,
              "#9c179e"
             ],
             [
              0.4444444444444444,
              "#bd3786"
             ],
             [
              0.5555555555555556,
              "#d8576b"
             ],
             [
              0.6666666666666666,
              "#ed7953"
             ],
             [
              0.7777777777777778,
              "#fb9f3a"
             ],
             [
              0.8888888888888888,
              "#fdca26"
             ],
             [
              1,
              "#f0f921"
             ]
            ],
            "type": "contour"
           }
          ],
          "contourcarpet": [
           {
            "colorbar": {
             "outlinewidth": 0,
             "ticks": ""
            },
            "type": "contourcarpet"
           }
          ],
          "heatmap": [
           {
            "colorbar": {
             "outlinewidth": 0,
             "ticks": ""
            },
            "colorscale": [
             [
              0,
              "#0d0887"
             ],
             [
              0.1111111111111111,
              "#46039f"
             ],
             [
              0.2222222222222222,
              "#7201a8"
             ],
             [
              0.3333333333333333,
              "#9c179e"
             ],
             [
              0.4444444444444444,
              "#bd3786"
             ],
             [
              0.5555555555555556,
              "#d8576b"
             ],
             [
              0.6666666666666666,
              "#ed7953"
             ],
             [
              0.7777777777777778,
              "#fb9f3a"
             ],
             [
              0.8888888888888888,
              "#fdca26"
             ],
             [
              1,
              "#f0f921"
             ]
            ],
            "type": "heatmap"
           }
          ],
          "histogram": [
           {
            "marker": {
             "pattern": {
              "fillmode": "overlay",
              "size": 10,
              "solidity": 0.2
             }
            },
            "type": "histogram"
           }
          ],
          "histogram2d": [
           {
            "colorbar": {
             "outlinewidth": 0,
             "ticks": ""
            },
            "colorscale": [
             [
              0,
              "#0d0887"
             ],
             [
              0.1111111111111111,
              "#46039f"
             ],
             [
              0.2222222222222222,
              "#7201a8"
             ],
             [
              0.3333333333333333,
              "#9c179e"
             ],
             [
              0.4444444444444444,
              "#bd3786"
             ],
             [
              0.5555555555555556,
              "#d8576b"
             ],
             [
              0.6666666666666666,
              "#ed7953"
             ],
             [
              0.7777777777777778,
              "#fb9f3a"
             ],
             [
              0.8888888888888888,
              "#fdca26"
             ],
             [
              1,
              "#f0f921"
             ]
            ],
            "type": "histogram2d"
           }
          ],
          "histogram2dcontour": [
           {
            "colorbar": {
             "outlinewidth": 0,
             "ticks": ""
            },
            "colorscale": [
             [
              0,
              "#0d0887"
             ],
             [
              0.1111111111111111,
              "#46039f"
             ],
             [
              0.2222222222222222,
              "#7201a8"
             ],
             [
              0.3333333333333333,
              "#9c179e"
             ],
             [
              0.4444444444444444,
              "#bd3786"
             ],
             [
              0.5555555555555556,
              "#d8576b"
             ],
             [
              0.6666666666666666,
              "#ed7953"
             ],
             [
              0.7777777777777778,
              "#fb9f3a"
             ],
             [
              0.8888888888888888,
              "#fdca26"
             ],
             [
              1,
              "#f0f921"
             ]
            ],
            "type": "histogram2dcontour"
           }
          ],
          "mesh3d": [
           {
            "colorbar": {
             "outlinewidth": 0,
             "ticks": ""
            },
            "type": "mesh3d"
           }
          ],
          "parcoords": [
           {
            "line": {
             "colorbar": {
              "outlinewidth": 0,
              "ticks": ""
             }
            },
            "type": "parcoords"
           }
          ],
          "pie": [
           {
            "automargin": true,
            "type": "pie"
           }
          ],
          "scatter": [
           {
            "fillpattern": {
             "fillmode": "overlay",
             "size": 10,
             "solidity": 0.2
            },
            "type": "scatter"
           }
          ],
          "scatter3d": [
           {
            "line": {
             "colorbar": {
              "outlinewidth": 0,
              "ticks": ""
             }
            },
            "marker": {
             "colorbar": {
              "outlinewidth": 0,
              "ticks": ""
             }
            },
            "type": "scatter3d"
           }
          ],
          "scattercarpet": [
           {
            "marker": {
             "colorbar": {
              "outlinewidth": 0,
              "ticks": ""
             }
            },
            "type": "scattercarpet"
           }
          ],
          "scattergeo": [
           {
            "marker": {
             "colorbar": {
              "outlinewidth": 0,
              "ticks": ""
             }
            },
            "type": "scattergeo"
           }
          ],
          "scattergl": [
           {
            "marker": {
             "colorbar": {
              "outlinewidth": 0,
              "ticks": ""
             }
            },
            "type": "scattergl"
           }
          ],
          "scattermap": [
           {
            "marker": {
             "colorbar": {
              "outlinewidth": 0,
              "ticks": ""
             }
            },
            "type": "scattermap"
           }
          ],
          "scattermapbox": [
           {
            "marker": {
             "colorbar": {
              "outlinewidth": 0,
              "ticks": ""
             }
            },
            "type": "scattermapbox"
           }
          ],
          "scatterpolar": [
           {
            "marker": {
             "colorbar": {
              "outlinewidth": 0,
              "ticks": ""
             }
            },
            "type": "scatterpolar"
           }
          ],
          "scatterpolargl": [
           {
            "marker": {
             "colorbar": {
              "outlinewidth": 0,
              "ticks": ""
             }
            },
            "type": "scatterpolargl"
           }
          ],
          "scatterternary": [
           {
            "marker": {
             "colorbar": {
              "outlinewidth": 0,
              "ticks": ""
             }
            },
            "type": "scatterternary"
           }
          ],
          "surface": [
           {
            "colorbar": {
             "outlinewidth": 0,
             "ticks": ""
            },
            "colorscale": [
             [
              0,
              "#0d0887"
             ],
             [
              0.1111111111111111,
              "#46039f"
             ],
             [
              0.2222222222222222,
              "#7201a8"
             ],
             [
              0.3333333333333333,
              "#9c179e"
             ],
             [
              0.4444444444444444,
              "#bd3786"
             ],
             [
              0.5555555555555556,
              "#d8576b"
             ],
             [
              0.6666666666666666,
              "#ed7953"
             ],
             [
              0.7777777777777778,
              "#fb9f3a"
             ],
             [
              0.8888888888888888,
              "#fdca26"
             ],
             [
              1,
              "#f0f921"
             ]
            ],
            "type": "surface"
           }
          ],
          "table": [
           {
            "cells": {
             "fill": {
              "color": "#EBF0F8"
             },
             "line": {
              "color": "white"
             }
            },
            "header": {
             "fill": {
              "color": "#C8D4E3"
             },
             "line": {
              "color": "white"
             }
            },
            "type": "table"
           }
          ]
         },
         "layout": {
          "annotationdefaults": {
           "arrowcolor": "#2a3f5f",
           "arrowhead": 0,
           "arrowwidth": 1
          },
          "autotypenumbers": "strict",
          "coloraxis": {
           "colorbar": {
            "outlinewidth": 0,
            "ticks": ""
           }
          },
          "colorscale": {
           "diverging": [
            [
             0,
             "#8e0152"
            ],
            [
             0.1,
             "#c51b7d"
            ],
            [
             0.2,
             "#de77ae"
            ],
            [
             0.3,
             "#f1b6da"
            ],
            [
             0.4,
             "#fde0ef"
            ],
            [
             0.5,
             "#f7f7f7"
            ],
            [
             0.6,
             "#e6f5d0"
            ],
            [
             0.7,
             "#b8e186"
            ],
            [
             0.8,
             "#7fbc41"
            ],
            [
             0.9,
             "#4d9221"
            ],
            [
             1,
             "#276419"
            ]
           ],
           "sequential": [
            [
             0,
             "#0d0887"
            ],
            [
             0.1111111111111111,
             "#46039f"
            ],
            [
             0.2222222222222222,
             "#7201a8"
            ],
            [
             0.3333333333333333,
             "#9c179e"
            ],
            [
             0.4444444444444444,
             "#bd3786"
            ],
            [
             0.5555555555555556,
             "#d8576b"
            ],
            [
             0.6666666666666666,
             "#ed7953"
            ],
            [
             0.7777777777777778,
             "#fb9f3a"
            ],
            [
             0.8888888888888888,
             "#fdca26"
            ],
            [
             1,
             "#f0f921"
            ]
           ],
           "sequentialminus": [
            [
             0,
             "#0d0887"
            ],
            [
             0.1111111111111111,
             "#46039f"
            ],
            [
             0.2222222222222222,
             "#7201a8"
            ],
            [
             0.3333333333333333,
             "#9c179e"
            ],
            [
             0.4444444444444444,
             "#bd3786"
            ],
            [
             0.5555555555555556,
             "#d8576b"
            ],
            [
             0.6666666666666666,
             "#ed7953"
            ],
            [
             0.7777777777777778,
             "#fb9f3a"
            ],
            [
             0.8888888888888888,
             "#fdca26"
            ],
            [
             1,
             "#f0f921"
            ]
           ]
          },
          "colorway": [
           "#636efa",
           "#EF553B",
           "#00cc96",
           "#ab63fa",
           "#FFA15A",
           "#19d3f3",
           "#FF6692",
           "#B6E880",
           "#FF97FF",
           "#FECB52"
          ],
          "font": {
           "color": "#2a3f5f"
          },
          "geo": {
           "bgcolor": "white",
           "lakecolor": "white",
           "landcolor": "#E5ECF6",
           "showlakes": true,
           "showland": true,
           "subunitcolor": "white"
          },
          "hoverlabel": {
           "align": "left"
          },
          "hovermode": "closest",
          "mapbox": {
           "style": "light"
          },
          "paper_bgcolor": "white",
          "plot_bgcolor": "#E5ECF6",
          "polar": {
           "angularaxis": {
            "gridcolor": "white",
            "linecolor": "white",
            "ticks": ""
           },
           "bgcolor": "#E5ECF6",
           "radialaxis": {
            "gridcolor": "white",
            "linecolor": "white",
            "ticks": ""
           }
          },
          "scene": {
           "xaxis": {
            "backgroundcolor": "#E5ECF6",
            "gridcolor": "white",
            "gridwidth": 2,
            "linecolor": "white",
            "showbackground": true,
            "ticks": "",
            "zerolinecolor": "white"
           },
           "yaxis": {
            "backgroundcolor": "#E5ECF6",
            "gridcolor": "white",
            "gridwidth": 2,
            "linecolor": "white",
            "showbackground": true,
            "ticks": "",
            "zerolinecolor": "white"
           },
           "zaxis": {
            "backgroundcolor": "#E5ECF6",
            "gridcolor": "white",
            "gridwidth": 2,
            "linecolor": "white",
            "showbackground": true,
            "ticks": "",
            "zerolinecolor": "white"
           }
          },
          "shapedefaults": {
           "line": {
            "color": "#2a3f5f"
           }
          },
          "ternary": {
           "aaxis": {
            "gridcolor": "white",
            "linecolor": "white",
            "ticks": ""
           },
           "baxis": {
            "gridcolor": "white",
            "linecolor": "white",
            "ticks": ""
           },
           "bgcolor": "#E5ECF6",
           "caxis": {
            "gridcolor": "white",
            "linecolor": "white",
            "ticks": ""
           }
          },
          "title": {
           "x": 0.05
          },
          "xaxis": {
           "automargin": true,
           "gridcolor": "white",
           "linecolor": "white",
           "ticks": "",
           "title": {
            "standoff": 15
           },
           "zerolinecolor": "white",
           "zerolinewidth": 2
          },
          "yaxis": {
           "automargin": true,
           "gridcolor": "white",
           "linecolor": "white",
           "ticks": "",
           "title": {
            "standoff": 15
           },
           "zerolinecolor": "white",
           "zerolinewidth": 2
          }
         }
        },
        "width": 600
       }
      }
     },
     "metadata": {},
     "output_type": "display_data"
    }
   ],
   "source": [
    "# Create 3D scatter plot\n",
    "fig = px.scatter_3d(\n",
    "    df,\n",
    "    x= \"lat\",\n",
    "    y= \"lon\",\n",
    "    z= \"price_aprox_usd\",\n",
    "    labels={\"lon\": \"longitude\", \"lat\": \"latitude\", \"price_aprox_usd\": \"price\"},\n",
    "    width=600,\n",
    "    height=500,\n",
    ")\n",
    "\n",
    "# Refine formatting\n",
    "fig.update_traces(\n",
    "    marker={\"size\": 4, \"line\": {\"width\": 2, \"color\": \"DarkSlateGrey\"}},\n",
    "    selector={\"mode\": \"markers\"},\n",
    ")\n",
    "\n",
    "# Display figure\n",
    "fig.show()"
   ]
  },
  {
   "cell_type": "markdown",
   "id": "412a77f0",
   "metadata": {},
   "source": [
    "### Split Data: Feature Matrix & Target vector"
   ]
  },
  {
   "cell_type": "code",
   "execution_count": 19,
   "id": "44240626",
   "metadata": {},
   "outputs": [
    {
     "data": {
      "text/html": [
       "<div>\n",
       "<style scoped>\n",
       "    .dataframe tbody tr th:only-of-type {\n",
       "        vertical-align: middle;\n",
       "    }\n",
       "\n",
       "    .dataframe tbody tr th {\n",
       "        vertical-align: top;\n",
       "    }\n",
       "\n",
       "    .dataframe thead th {\n",
       "        text-align: right;\n",
       "    }\n",
       "</style>\n",
       "<table border=\"1\" class=\"dataframe\">\n",
       "  <thead>\n",
       "    <tr style=\"text-align: right;\">\n",
       "      <th></th>\n",
       "      <th>lon</th>\n",
       "      <th>lat</th>\n",
       "    </tr>\n",
       "  </thead>\n",
       "  <tbody>\n",
       "    <tr>\n",
       "      <th>0</th>\n",
       "      <td>-58.454693</td>\n",
       "      <td>-34.584651</td>\n",
       "    </tr>\n",
       "    <tr>\n",
       "      <th>1</th>\n",
       "      <td>-58.500115</td>\n",
       "      <td>-34.638979</td>\n",
       "    </tr>\n",
       "    <tr>\n",
       "      <th>2</th>\n",
       "      <td>-58.459957</td>\n",
       "      <td>-34.615847</td>\n",
       "    </tr>\n",
       "    <tr>\n",
       "      <th>3</th>\n",
       "      <td>-58.382382</td>\n",
       "      <td>-34.625222</td>\n",
       "    </tr>\n",
       "    <tr>\n",
       "      <th>4</th>\n",
       "      <td>-58.412511</td>\n",
       "      <td>-34.610610</td>\n",
       "    </tr>\n",
       "  </tbody>\n",
       "</table>\n",
       "</div>"
      ],
      "text/plain": [
       "         lon        lat\n",
       "0 -58.454693 -34.584651\n",
       "1 -58.500115 -34.638979\n",
       "2 -58.459957 -34.615847\n",
       "3 -58.382382 -34.625222\n",
       "4 -58.412511 -34.610610"
      ]
     },
     "execution_count": 19,
     "metadata": {},
     "output_type": "execute_result"
    }
   ],
   "source": [
    "features = [\"lon\", \"lat\"]\n",
    "X_train = df[features]\n",
    "X_train.head()"
   ]
  },
  {
   "cell_type": "code",
   "execution_count": 20,
   "id": "5a479064",
   "metadata": {},
   "outputs": [
    {
     "data": {
      "text/plain": [
       "0    129000.0\n",
       "1     87000.0\n",
       "2    118000.0\n",
       "3     57000.0\n",
       "4     90000.0\n",
       "Name: price_aprox_usd, dtype: float64"
      ]
     },
     "execution_count": 20,
     "metadata": {},
     "output_type": "execute_result"
    }
   ],
   "source": [
    "target = \"price_aprox_usd\"\n",
    "y_train = df[target]\n",
    "y_train.head()"
   ]
  },
  {
   "cell_type": "markdown",
   "id": "ea908385",
   "metadata": {},
   "source": [
    "### Build model:\n",
    "Baseline"
   ]
  },
  {
   "cell_type": "code",
   "execution_count": 21,
   "id": "c9845180",
   "metadata": {},
   "outputs": [],
   "source": [
    "# Baseline mean\n",
    "y_mean = y_train.mean()"
   ]
  },
  {
   "cell_type": "code",
   "execution_count": 22,
   "id": "061bdeee",
   "metadata": {},
   "outputs": [
    {
     "data": {
      "text/plain": [
       "[np.float64(134732.97340481562),\n",
       " np.float64(134732.97340481562),\n",
       " np.float64(134732.97340481562),\n",
       " np.float64(134732.97340481562),\n",
       " np.float64(134732.97340481562)]"
      ]
     },
     "execution_count": 22,
     "metadata": {},
     "output_type": "execute_result"
    }
   ],
   "source": [
    "y_pred_baseline = [y_mean] * len(y_train)\n",
    "y_pred_baseline[:5]"
   ]
  },
  {
   "cell_type": "markdown",
   "id": "de79e480",
   "metadata": {},
   "source": [
    "### Baseline Mean Absolute error"
   ]
  },
  {
   "cell_type": "code",
   "execution_count": 23,
   "id": "6ea84939",
   "metadata": {},
   "outputs": [
    {
     "name": "stdout",
     "output_type": "stream",
     "text": [
      "Mean apt price 134732.97\n",
      "Baseline MAE: 45422.75\n"
     ]
    }
   ],
   "source": [
    "mae_baseline = mean_absolute_error(y_train, y_pred_baseline)\n",
    "\n",
    "print(\"Mean apt price\", round(y_mean, 2))\n",
    "print(\"Baseline MAE:\", round(mae_baseline, 2))"
   ]
  },
  {
   "cell_type": "markdown",
   "id": "4749c3f1",
   "metadata": {},
   "source": [
    "### instantiate Transformers\n",
    "and train transformer"
   ]
  },
  {
   "cell_type": "code",
   "execution_count": 24,
   "id": "8234bf78",
   "metadata": {},
   "outputs": [],
   "source": [
    "imputer = SimpleImputer()"
   ]
  },
  {
   "cell_type": "code",
   "execution_count": 25,
   "id": "313910f2",
   "metadata": {},
   "outputs": [
    {
     "data": {
      "text/html": [
       "<style>#sk-container-id-1 {\n",
       "  /* Definition of color scheme common for light and dark mode */\n",
       "  --sklearn-color-text: #000;\n",
       "  --sklearn-color-text-muted: #666;\n",
       "  --sklearn-color-line: gray;\n",
       "  /* Definition of color scheme for unfitted estimators */\n",
       "  --sklearn-color-unfitted-level-0: #fff5e6;\n",
       "  --sklearn-color-unfitted-level-1: #f6e4d2;\n",
       "  --sklearn-color-unfitted-level-2: #ffe0b3;\n",
       "  --sklearn-color-unfitted-level-3: chocolate;\n",
       "  /* Definition of color scheme for fitted estimators */\n",
       "  --sklearn-color-fitted-level-0: #f0f8ff;\n",
       "  --sklearn-color-fitted-level-1: #d4ebff;\n",
       "  --sklearn-color-fitted-level-2: #b3dbfd;\n",
       "  --sklearn-color-fitted-level-3: cornflowerblue;\n",
       "\n",
       "  /* Specific color for light theme */\n",
       "  --sklearn-color-text-on-default-background: var(--sg-text-color, var(--theme-code-foreground, var(--jp-content-font-color1, black)));\n",
       "  --sklearn-color-background: var(--sg-background-color, var(--theme-background, var(--jp-layout-color0, white)));\n",
       "  --sklearn-color-border-box: var(--sg-text-color, var(--theme-code-foreground, var(--jp-content-font-color1, black)));\n",
       "  --sklearn-color-icon: #696969;\n",
       "\n",
       "  @media (prefers-color-scheme: dark) {\n",
       "    /* Redefinition of color scheme for dark theme */\n",
       "    --sklearn-color-text-on-default-background: var(--sg-text-color, var(--theme-code-foreground, var(--jp-content-font-color1, white)));\n",
       "    --sklearn-color-background: var(--sg-background-color, var(--theme-background, var(--jp-layout-color0, #111)));\n",
       "    --sklearn-color-border-box: var(--sg-text-color, var(--theme-code-foreground, var(--jp-content-font-color1, white)));\n",
       "    --sklearn-color-icon: #878787;\n",
       "  }\n",
       "}\n",
       "\n",
       "#sk-container-id-1 {\n",
       "  color: var(--sklearn-color-text);\n",
       "}\n",
       "\n",
       "#sk-container-id-1 pre {\n",
       "  padding: 0;\n",
       "}\n",
       "\n",
       "#sk-container-id-1 input.sk-hidden--visually {\n",
       "  border: 0;\n",
       "  clip: rect(1px 1px 1px 1px);\n",
       "  clip: rect(1px, 1px, 1px, 1px);\n",
       "  height: 1px;\n",
       "  margin: -1px;\n",
       "  overflow: hidden;\n",
       "  padding: 0;\n",
       "  position: absolute;\n",
       "  width: 1px;\n",
       "}\n",
       "\n",
       "#sk-container-id-1 div.sk-dashed-wrapped {\n",
       "  border: 1px dashed var(--sklearn-color-line);\n",
       "  margin: 0 0.4em 0.5em 0.4em;\n",
       "  box-sizing: border-box;\n",
       "  padding-bottom: 0.4em;\n",
       "  background-color: var(--sklearn-color-background);\n",
       "}\n",
       "\n",
       "#sk-container-id-1 div.sk-container {\n",
       "  /* jupyter's `normalize.less` sets `[hidden] { display: none; }`\n",
       "     but bootstrap.min.css set `[hidden] { display: none !important; }`\n",
       "     so we also need the `!important` here to be able to override the\n",
       "     default hidden behavior on the sphinx rendered scikit-learn.org.\n",
       "     See: https://github.com/scikit-learn/scikit-learn/issues/21755 */\n",
       "  display: inline-block !important;\n",
       "  position: relative;\n",
       "}\n",
       "\n",
       "#sk-container-id-1 div.sk-text-repr-fallback {\n",
       "  display: none;\n",
       "}\n",
       "\n",
       "div.sk-parallel-item,\n",
       "div.sk-serial,\n",
       "div.sk-item {\n",
       "  /* draw centered vertical line to link estimators */\n",
       "  background-image: linear-gradient(var(--sklearn-color-text-on-default-background), var(--sklearn-color-text-on-default-background));\n",
       "  background-size: 2px 100%;\n",
       "  background-repeat: no-repeat;\n",
       "  background-position: center center;\n",
       "}\n",
       "\n",
       "/* Parallel-specific style estimator block */\n",
       "\n",
       "#sk-container-id-1 div.sk-parallel-item::after {\n",
       "  content: \"\";\n",
       "  width: 100%;\n",
       "  border-bottom: 2px solid var(--sklearn-color-text-on-default-background);\n",
       "  flex-grow: 1;\n",
       "}\n",
       "\n",
       "#sk-container-id-1 div.sk-parallel {\n",
       "  display: flex;\n",
       "  align-items: stretch;\n",
       "  justify-content: center;\n",
       "  background-color: var(--sklearn-color-background);\n",
       "  position: relative;\n",
       "}\n",
       "\n",
       "#sk-container-id-1 div.sk-parallel-item {\n",
       "  display: flex;\n",
       "  flex-direction: column;\n",
       "}\n",
       "\n",
       "#sk-container-id-1 div.sk-parallel-item:first-child::after {\n",
       "  align-self: flex-end;\n",
       "  width: 50%;\n",
       "}\n",
       "\n",
       "#sk-container-id-1 div.sk-parallel-item:last-child::after {\n",
       "  align-self: flex-start;\n",
       "  width: 50%;\n",
       "}\n",
       "\n",
       "#sk-container-id-1 div.sk-parallel-item:only-child::after {\n",
       "  width: 0;\n",
       "}\n",
       "\n",
       "/* Serial-specific style estimator block */\n",
       "\n",
       "#sk-container-id-1 div.sk-serial {\n",
       "  display: flex;\n",
       "  flex-direction: column;\n",
       "  align-items: center;\n",
       "  background-color: var(--sklearn-color-background);\n",
       "  padding-right: 1em;\n",
       "  padding-left: 1em;\n",
       "}\n",
       "\n",
       "\n",
       "/* Toggleable style: style used for estimator/Pipeline/ColumnTransformer box that is\n",
       "clickable and can be expanded/collapsed.\n",
       "- Pipeline and ColumnTransformer use this feature and define the default style\n",
       "- Estimators will overwrite some part of the style using the `sk-estimator` class\n",
       "*/\n",
       "\n",
       "/* Pipeline and ColumnTransformer style (default) */\n",
       "\n",
       "#sk-container-id-1 div.sk-toggleable {\n",
       "  /* Default theme specific background. It is overwritten whether we have a\n",
       "  specific estimator or a Pipeline/ColumnTransformer */\n",
       "  background-color: var(--sklearn-color-background);\n",
       "}\n",
       "\n",
       "/* Toggleable label */\n",
       "#sk-container-id-1 label.sk-toggleable__label {\n",
       "  cursor: pointer;\n",
       "  display: flex;\n",
       "  width: 100%;\n",
       "  margin-bottom: 0;\n",
       "  padding: 0.5em;\n",
       "  box-sizing: border-box;\n",
       "  text-align: center;\n",
       "  align-items: start;\n",
       "  justify-content: space-between;\n",
       "  gap: 0.5em;\n",
       "}\n",
       "\n",
       "#sk-container-id-1 label.sk-toggleable__label .caption {\n",
       "  font-size: 0.6rem;\n",
       "  font-weight: lighter;\n",
       "  color: var(--sklearn-color-text-muted);\n",
       "}\n",
       "\n",
       "#sk-container-id-1 label.sk-toggleable__label-arrow:before {\n",
       "  /* Arrow on the left of the label */\n",
       "  content: \"▸\";\n",
       "  float: left;\n",
       "  margin-right: 0.25em;\n",
       "  color: var(--sklearn-color-icon);\n",
       "}\n",
       "\n",
       "#sk-container-id-1 label.sk-toggleable__label-arrow:hover:before {\n",
       "  color: var(--sklearn-color-text);\n",
       "}\n",
       "\n",
       "/* Toggleable content - dropdown */\n",
       "\n",
       "#sk-container-id-1 div.sk-toggleable__content {\n",
       "  display: none;\n",
       "  text-align: left;\n",
       "  /* unfitted */\n",
       "  background-color: var(--sklearn-color-unfitted-level-0);\n",
       "}\n",
       "\n",
       "#sk-container-id-1 div.sk-toggleable__content.fitted {\n",
       "  /* fitted */\n",
       "  background-color: var(--sklearn-color-fitted-level-0);\n",
       "}\n",
       "\n",
       "#sk-container-id-1 div.sk-toggleable__content pre {\n",
       "  margin: 0.2em;\n",
       "  border-radius: 0.25em;\n",
       "  color: var(--sklearn-color-text);\n",
       "  /* unfitted */\n",
       "  background-color: var(--sklearn-color-unfitted-level-0);\n",
       "}\n",
       "\n",
       "#sk-container-id-1 div.sk-toggleable__content.fitted pre {\n",
       "  /* unfitted */\n",
       "  background-color: var(--sklearn-color-fitted-level-0);\n",
       "}\n",
       "\n",
       "#sk-container-id-1 input.sk-toggleable__control:checked~div.sk-toggleable__content {\n",
       "  /* Expand drop-down */\n",
       "  display: block;\n",
       "  width: 100%;\n",
       "  overflow: visible;\n",
       "}\n",
       "\n",
       "#sk-container-id-1 input.sk-toggleable__control:checked~label.sk-toggleable__label-arrow:before {\n",
       "  content: \"▾\";\n",
       "}\n",
       "\n",
       "/* Pipeline/ColumnTransformer-specific style */\n",
       "\n",
       "#sk-container-id-1 div.sk-label input.sk-toggleable__control:checked~label.sk-toggleable__label {\n",
       "  color: var(--sklearn-color-text);\n",
       "  background-color: var(--sklearn-color-unfitted-level-2);\n",
       "}\n",
       "\n",
       "#sk-container-id-1 div.sk-label.fitted input.sk-toggleable__control:checked~label.sk-toggleable__label {\n",
       "  background-color: var(--sklearn-color-fitted-level-2);\n",
       "}\n",
       "\n",
       "/* Estimator-specific style */\n",
       "\n",
       "/* Colorize estimator box */\n",
       "#sk-container-id-1 div.sk-estimator input.sk-toggleable__control:checked~label.sk-toggleable__label {\n",
       "  /* unfitted */\n",
       "  background-color: var(--sklearn-color-unfitted-level-2);\n",
       "}\n",
       "\n",
       "#sk-container-id-1 div.sk-estimator.fitted input.sk-toggleable__control:checked~label.sk-toggleable__label {\n",
       "  /* fitted */\n",
       "  background-color: var(--sklearn-color-fitted-level-2);\n",
       "}\n",
       "\n",
       "#sk-container-id-1 div.sk-label label.sk-toggleable__label,\n",
       "#sk-container-id-1 div.sk-label label {\n",
       "  /* The background is the default theme color */\n",
       "  color: var(--sklearn-color-text-on-default-background);\n",
       "}\n",
       "\n",
       "/* On hover, darken the color of the background */\n",
       "#sk-container-id-1 div.sk-label:hover label.sk-toggleable__label {\n",
       "  color: var(--sklearn-color-text);\n",
       "  background-color: var(--sklearn-color-unfitted-level-2);\n",
       "}\n",
       "\n",
       "/* Label box, darken color on hover, fitted */\n",
       "#sk-container-id-1 div.sk-label.fitted:hover label.sk-toggleable__label.fitted {\n",
       "  color: var(--sklearn-color-text);\n",
       "  background-color: var(--sklearn-color-fitted-level-2);\n",
       "}\n",
       "\n",
       "/* Estimator label */\n",
       "\n",
       "#sk-container-id-1 div.sk-label label {\n",
       "  font-family: monospace;\n",
       "  font-weight: bold;\n",
       "  display: inline-block;\n",
       "  line-height: 1.2em;\n",
       "}\n",
       "\n",
       "#sk-container-id-1 div.sk-label-container {\n",
       "  text-align: center;\n",
       "}\n",
       "\n",
       "/* Estimator-specific */\n",
       "#sk-container-id-1 div.sk-estimator {\n",
       "  font-family: monospace;\n",
       "  border: 1px dotted var(--sklearn-color-border-box);\n",
       "  border-radius: 0.25em;\n",
       "  box-sizing: border-box;\n",
       "  margin-bottom: 0.5em;\n",
       "  /* unfitted */\n",
       "  background-color: var(--sklearn-color-unfitted-level-0);\n",
       "}\n",
       "\n",
       "#sk-container-id-1 div.sk-estimator.fitted {\n",
       "  /* fitted */\n",
       "  background-color: var(--sklearn-color-fitted-level-0);\n",
       "}\n",
       "\n",
       "/* on hover */\n",
       "#sk-container-id-1 div.sk-estimator:hover {\n",
       "  /* unfitted */\n",
       "  background-color: var(--sklearn-color-unfitted-level-2);\n",
       "}\n",
       "\n",
       "#sk-container-id-1 div.sk-estimator.fitted:hover {\n",
       "  /* fitted */\n",
       "  background-color: var(--sklearn-color-fitted-level-2);\n",
       "}\n",
       "\n",
       "/* Specification for estimator info (e.g. \"i\" and \"?\") */\n",
       "\n",
       "/* Common style for \"i\" and \"?\" */\n",
       "\n",
       ".sk-estimator-doc-link,\n",
       "a:link.sk-estimator-doc-link,\n",
       "a:visited.sk-estimator-doc-link {\n",
       "  float: right;\n",
       "  font-size: smaller;\n",
       "  line-height: 1em;\n",
       "  font-family: monospace;\n",
       "  background-color: var(--sklearn-color-background);\n",
       "  border-radius: 1em;\n",
       "  height: 1em;\n",
       "  width: 1em;\n",
       "  text-decoration: none !important;\n",
       "  margin-left: 0.5em;\n",
       "  text-align: center;\n",
       "  /* unfitted */\n",
       "  border: var(--sklearn-color-unfitted-level-1) 1pt solid;\n",
       "  color: var(--sklearn-color-unfitted-level-1);\n",
       "}\n",
       "\n",
       ".sk-estimator-doc-link.fitted,\n",
       "a:link.sk-estimator-doc-link.fitted,\n",
       "a:visited.sk-estimator-doc-link.fitted {\n",
       "  /* fitted */\n",
       "  border: var(--sklearn-color-fitted-level-1) 1pt solid;\n",
       "  color: var(--sklearn-color-fitted-level-1);\n",
       "}\n",
       "\n",
       "/* On hover */\n",
       "div.sk-estimator:hover .sk-estimator-doc-link:hover,\n",
       ".sk-estimator-doc-link:hover,\n",
       "div.sk-label-container:hover .sk-estimator-doc-link:hover,\n",
       ".sk-estimator-doc-link:hover {\n",
       "  /* unfitted */\n",
       "  background-color: var(--sklearn-color-unfitted-level-3);\n",
       "  color: var(--sklearn-color-background);\n",
       "  text-decoration: none;\n",
       "}\n",
       "\n",
       "div.sk-estimator.fitted:hover .sk-estimator-doc-link.fitted:hover,\n",
       ".sk-estimator-doc-link.fitted:hover,\n",
       "div.sk-label-container:hover .sk-estimator-doc-link.fitted:hover,\n",
       ".sk-estimator-doc-link.fitted:hover {\n",
       "  /* fitted */\n",
       "  background-color: var(--sklearn-color-fitted-level-3);\n",
       "  color: var(--sklearn-color-background);\n",
       "  text-decoration: none;\n",
       "}\n",
       "\n",
       "/* Span, style for the box shown on hovering the info icon */\n",
       ".sk-estimator-doc-link span {\n",
       "  display: none;\n",
       "  z-index: 9999;\n",
       "  position: relative;\n",
       "  font-weight: normal;\n",
       "  right: .2ex;\n",
       "  padding: .5ex;\n",
       "  margin: .5ex;\n",
       "  width: min-content;\n",
       "  min-width: 20ex;\n",
       "  max-width: 50ex;\n",
       "  color: var(--sklearn-color-text);\n",
       "  box-shadow: 2pt 2pt 4pt #999;\n",
       "  /* unfitted */\n",
       "  background: var(--sklearn-color-unfitted-level-0);\n",
       "  border: .5pt solid var(--sklearn-color-unfitted-level-3);\n",
       "}\n",
       "\n",
       ".sk-estimator-doc-link.fitted span {\n",
       "  /* fitted */\n",
       "  background: var(--sklearn-color-fitted-level-0);\n",
       "  border: var(--sklearn-color-fitted-level-3);\n",
       "}\n",
       "\n",
       ".sk-estimator-doc-link:hover span {\n",
       "  display: block;\n",
       "}\n",
       "\n",
       "/* \"?\"-specific style due to the `<a>` HTML tag */\n",
       "\n",
       "#sk-container-id-1 a.estimator_doc_link {\n",
       "  float: right;\n",
       "  font-size: 1rem;\n",
       "  line-height: 1em;\n",
       "  font-family: monospace;\n",
       "  background-color: var(--sklearn-color-background);\n",
       "  border-radius: 1rem;\n",
       "  height: 1rem;\n",
       "  width: 1rem;\n",
       "  text-decoration: none;\n",
       "  /* unfitted */\n",
       "  color: var(--sklearn-color-unfitted-level-1);\n",
       "  border: var(--sklearn-color-unfitted-level-1) 1pt solid;\n",
       "}\n",
       "\n",
       "#sk-container-id-1 a.estimator_doc_link.fitted {\n",
       "  /* fitted */\n",
       "  border: var(--sklearn-color-fitted-level-1) 1pt solid;\n",
       "  color: var(--sklearn-color-fitted-level-1);\n",
       "}\n",
       "\n",
       "/* On hover */\n",
       "#sk-container-id-1 a.estimator_doc_link:hover {\n",
       "  /* unfitted */\n",
       "  background-color: var(--sklearn-color-unfitted-level-3);\n",
       "  color: var(--sklearn-color-background);\n",
       "  text-decoration: none;\n",
       "}\n",
       "\n",
       "#sk-container-id-1 a.estimator_doc_link.fitted:hover {\n",
       "  /* fitted */\n",
       "  background-color: var(--sklearn-color-fitted-level-3);\n",
       "}\n",
       "\n",
       ".estimator-table summary {\n",
       "    padding: .5rem;\n",
       "    font-family: monospace;\n",
       "    cursor: pointer;\n",
       "}\n",
       "\n",
       ".estimator-table details[open] {\n",
       "    padding-left: 0.1rem;\n",
       "    padding-right: 0.1rem;\n",
       "    padding-bottom: 0.3rem;\n",
       "}\n",
       "\n",
       ".estimator-table .parameters-table {\n",
       "    margin-left: auto !important;\n",
       "    margin-right: auto !important;\n",
       "}\n",
       "\n",
       ".estimator-table .parameters-table tr:nth-child(odd) {\n",
       "    background-color: #fff;\n",
       "}\n",
       "\n",
       ".estimator-table .parameters-table tr:nth-child(even) {\n",
       "    background-color: #f6f6f6;\n",
       "}\n",
       "\n",
       ".estimator-table .parameters-table tr:hover {\n",
       "    background-color: #e0e0e0;\n",
       "}\n",
       "\n",
       ".estimator-table table td {\n",
       "    border: 1px solid rgba(106, 105, 104, 0.232);\n",
       "}\n",
       "\n",
       ".user-set td {\n",
       "    color:rgb(255, 94, 0);\n",
       "    text-align: left;\n",
       "}\n",
       "\n",
       ".user-set td.value pre {\n",
       "    color:rgb(255, 94, 0) !important;\n",
       "    background-color: transparent !important;\n",
       "}\n",
       "\n",
       ".default td {\n",
       "    color: black;\n",
       "    text-align: left;\n",
       "}\n",
       "\n",
       ".user-set td i,\n",
       ".default td i {\n",
       "    color: black;\n",
       "}\n",
       "\n",
       ".copy-paste-icon {\n",
       "    background-image: url(data:image/svg+xml;base64,PHN2ZyB4bWxucz0iaHR0cDovL3d3dy53My5vcmcvMjAwMC9zdmciIHZpZXdCb3g9IjAgMCA0NDggNTEyIj48IS0tIUZvbnQgQXdlc29tZSBGcmVlIDYuNy4yIGJ5IEBmb250YXdlc29tZSAtIGh0dHBzOi8vZm9udGF3ZXNvbWUuY29tIExpY2Vuc2UgLSBodHRwczovL2ZvbnRhd2Vzb21lLmNvbS9saWNlbnNlL2ZyZWUgQ29weXJpZ2h0IDIwMjUgRm9udGljb25zLCBJbmMuLS0+PHBhdGggZD0iTTIwOCAwTDMzMi4xIDBjMTIuNyAwIDI0LjkgNS4xIDMzLjkgMTQuMWw2Ny45IDY3LjljOSA5IDE0LjEgMjEuMiAxNC4xIDMzLjlMNDQ4IDMzNmMwIDI2LjUtMjEuNSA0OC00OCA0OGwtMTkyIDBjLTI2LjUgMC00OC0yMS41LTQ4LTQ4bDAtMjg4YzAtMjYuNSAyMS41LTQ4IDQ4LTQ4ek00OCAxMjhsODAgMCAwIDY0LTY0IDAgMCAyNTYgMTkyIDAgMC0zMiA2NCAwIDAgNDhjMCAyNi41LTIxLjUgNDgtNDggNDhMNDggNTEyYy0yNi41IDAtNDgtMjEuNS00OC00OEwwIDE3NmMwLTI2LjUgMjEuNS00OCA0OC00OHoiLz48L3N2Zz4=);\n",
       "    background-repeat: no-repeat;\n",
       "    background-size: 14px 14px;\n",
       "    background-position: 0;\n",
       "    display: inline-block;\n",
       "    width: 14px;\n",
       "    height: 14px;\n",
       "    cursor: pointer;\n",
       "}\n",
       "</style><body><div id=\"sk-container-id-1\" class=\"sk-top-container\"><div class=\"sk-text-repr-fallback\"><pre>SimpleImputer()</pre><b>In a Jupyter environment, please rerun this cell to show the HTML representation or trust the notebook. <br />On GitHub, the HTML representation is unable to render, please try loading this page with nbviewer.org.</b></div><div class=\"sk-container\" hidden><div class=\"sk-item\"><div class=\"sk-estimator fitted sk-toggleable\"><input class=\"sk-toggleable__control sk-hidden--visually\" id=\"sk-estimator-id-1\" type=\"checkbox\" checked><label for=\"sk-estimator-id-1\" class=\"sk-toggleable__label fitted sk-toggleable__label-arrow\"><div><div>SimpleImputer</div></div><div><a class=\"sk-estimator-doc-link fitted\" rel=\"noreferrer\" target=\"_blank\" href=\"https://scikit-learn.org/1.7/modules/generated/sklearn.impute.SimpleImputer.html\">?<span>Documentation for SimpleImputer</span></a><span class=\"sk-estimator-doc-link fitted\">i<span>Fitted</span></span></div></label><div class=\"sk-toggleable__content fitted\" data-param-prefix=\"\">\n",
       "        <div class=\"estimator-table\">\n",
       "            <details>\n",
       "                <summary>Parameters</summary>\n",
       "                <table class=\"parameters-table\">\n",
       "                  <tbody>\n",
       "                    \n",
       "        <tr class=\"default\">\n",
       "            <td><i class=\"copy-paste-icon\"\n",
       "                 onclick=\"copyToClipboard('missing_values',\n",
       "                          this.parentElement.nextElementSibling)\"\n",
       "            ></i></td>\n",
       "            <td class=\"param\">missing_values&nbsp;</td>\n",
       "            <td class=\"value\">nan</td>\n",
       "        </tr>\n",
       "    \n",
       "\n",
       "        <tr class=\"default\">\n",
       "            <td><i class=\"copy-paste-icon\"\n",
       "                 onclick=\"copyToClipboard('strategy',\n",
       "                          this.parentElement.nextElementSibling)\"\n",
       "            ></i></td>\n",
       "            <td class=\"param\">strategy&nbsp;</td>\n",
       "            <td class=\"value\">&#x27;mean&#x27;</td>\n",
       "        </tr>\n",
       "    \n",
       "\n",
       "        <tr class=\"default\">\n",
       "            <td><i class=\"copy-paste-icon\"\n",
       "                 onclick=\"copyToClipboard('fill_value',\n",
       "                          this.parentElement.nextElementSibling)\"\n",
       "            ></i></td>\n",
       "            <td class=\"param\">fill_value&nbsp;</td>\n",
       "            <td class=\"value\">None</td>\n",
       "        </tr>\n",
       "    \n",
       "\n",
       "        <tr class=\"default\">\n",
       "            <td><i class=\"copy-paste-icon\"\n",
       "                 onclick=\"copyToClipboard('copy',\n",
       "                          this.parentElement.nextElementSibling)\"\n",
       "            ></i></td>\n",
       "            <td class=\"param\">copy&nbsp;</td>\n",
       "            <td class=\"value\">True</td>\n",
       "        </tr>\n",
       "    \n",
       "\n",
       "        <tr class=\"default\">\n",
       "            <td><i class=\"copy-paste-icon\"\n",
       "                 onclick=\"copyToClipboard('add_indicator',\n",
       "                          this.parentElement.nextElementSibling)\"\n",
       "            ></i></td>\n",
       "            <td class=\"param\">add_indicator&nbsp;</td>\n",
       "            <td class=\"value\">False</td>\n",
       "        </tr>\n",
       "    \n",
       "\n",
       "        <tr class=\"default\">\n",
       "            <td><i class=\"copy-paste-icon\"\n",
       "                 onclick=\"copyToClipboard('keep_empty_features',\n",
       "                          this.parentElement.nextElementSibling)\"\n",
       "            ></i></td>\n",
       "            <td class=\"param\">keep_empty_features&nbsp;</td>\n",
       "            <td class=\"value\">False</td>\n",
       "        </tr>\n",
       "    \n",
       "                  </tbody>\n",
       "                </table>\n",
       "            </details>\n",
       "        </div>\n",
       "    </div></div></div></div></div><script>function copyToClipboard(text, element) {\n",
       "    // Get the parameter prefix from the closest toggleable content\n",
       "    const toggleableContent = element.closest('.sk-toggleable__content');\n",
       "    const paramPrefix = toggleableContent ? toggleableContent.dataset.paramPrefix : '';\n",
       "    const fullParamName = paramPrefix ? `${paramPrefix}${text}` : text;\n",
       "\n",
       "    const originalStyle = element.style;\n",
       "    const computedStyle = window.getComputedStyle(element);\n",
       "    const originalWidth = computedStyle.width;\n",
       "    const originalHTML = element.innerHTML.replace('Copied!', '');\n",
       "\n",
       "    navigator.clipboard.writeText(fullParamName)\n",
       "        .then(() => {\n",
       "            element.style.width = originalWidth;\n",
       "            element.style.color = 'green';\n",
       "            element.innerHTML = \"Copied!\";\n",
       "\n",
       "            setTimeout(() => {\n",
       "                element.innerHTML = originalHTML;\n",
       "                element.style = originalStyle;\n",
       "            }, 2000);\n",
       "        })\n",
       "        .catch(err => {\n",
       "            console.error('Failed to copy:', err);\n",
       "            element.style.color = 'red';\n",
       "            element.innerHTML = \"Failed!\";\n",
       "            setTimeout(() => {\n",
       "                element.innerHTML = originalHTML;\n",
       "                element.style = originalStyle;\n",
       "            }, 2000);\n",
       "        });\n",
       "    return false;\n",
       "}\n",
       "\n",
       "document.querySelectorAll('.fa-regular.fa-copy').forEach(function(element) {\n",
       "    const toggleableContent = element.closest('.sk-toggleable__content');\n",
       "    const paramPrefix = toggleableContent ? toggleableContent.dataset.paramPrefix : '';\n",
       "    const paramName = element.parentElement.nextElementSibling.textContent.trim();\n",
       "    const fullParamName = paramPrefix ? `${paramPrefix}${paramName}` : paramName;\n",
       "\n",
       "    element.setAttribute('title', fullParamName);\n",
       "});\n",
       "</script></body>"
      ],
      "text/plain": [
       "SimpleImputer()"
      ]
     },
     "execution_count": 25,
     "metadata": {},
     "output_type": "execute_result"
    }
   ],
   "source": [
    "imputer.fit(X_train)"
   ]
  },
  {
   "cell_type": "markdown",
   "id": "662bb24b",
   "metadata": {},
   "source": [
    "### Transform Data"
   ]
  },
  {
   "cell_type": "code",
   "execution_count": 26,
   "id": "2d40281a",
   "metadata": {},
   "outputs": [
    {
     "name": "stdout",
     "output_type": "stream",
     "text": [
      "<class 'pandas.core.frame.DataFrame'>\n",
      "RangeIndex: 2658 entries, 0 to 2657\n",
      "Data columns (total 2 columns):\n",
      " #   Column  Non-Null Count  Dtype  \n",
      "---  ------  --------------  -----  \n",
      " 0   lon     2658 non-null   float64\n",
      " 1   lat     2658 non-null   float64\n",
      "dtypes: float64(2)\n",
      "memory usage: 41.7 KB\n"
     ]
    }
   ],
   "source": [
    "XT_train = imputer.transform(X_train)\n",
    "pd.DataFrame(XT_train, columns=X_train.columns).info()"
   ]
  },
  {
   "cell_type": "markdown",
   "id": "ddde6ac1",
   "metadata": {},
   "source": [
    "### Build Pipeline"
   ]
  },
  {
   "cell_type": "code",
   "execution_count": 27,
   "id": "e65d82a6",
   "metadata": {},
   "outputs": [],
   "source": [
    "model = make_pipeline(\n",
    "    SimpleImputer(),\n",
    "    LinearRegression()\n",
    ")"
   ]
  },
  {
   "cell_type": "markdown",
   "id": "46d64fa2",
   "metadata": {},
   "source": [
    "### Train Model"
   ]
  },
  {
   "cell_type": "code",
   "execution_count": 28,
   "id": "d4631e73",
   "metadata": {},
   "outputs": [
    {
     "data": {
      "text/html": [
       "<style>#sk-container-id-2 {\n",
       "  /* Definition of color scheme common for light and dark mode */\n",
       "  --sklearn-color-text: #000;\n",
       "  --sklearn-color-text-muted: #666;\n",
       "  --sklearn-color-line: gray;\n",
       "  /* Definition of color scheme for unfitted estimators */\n",
       "  --sklearn-color-unfitted-level-0: #fff5e6;\n",
       "  --sklearn-color-unfitted-level-1: #f6e4d2;\n",
       "  --sklearn-color-unfitted-level-2: #ffe0b3;\n",
       "  --sklearn-color-unfitted-level-3: chocolate;\n",
       "  /* Definition of color scheme for fitted estimators */\n",
       "  --sklearn-color-fitted-level-0: #f0f8ff;\n",
       "  --sklearn-color-fitted-level-1: #d4ebff;\n",
       "  --sklearn-color-fitted-level-2: #b3dbfd;\n",
       "  --sklearn-color-fitted-level-3: cornflowerblue;\n",
       "\n",
       "  /* Specific color for light theme */\n",
       "  --sklearn-color-text-on-default-background: var(--sg-text-color, var(--theme-code-foreground, var(--jp-content-font-color1, black)));\n",
       "  --sklearn-color-background: var(--sg-background-color, var(--theme-background, var(--jp-layout-color0, white)));\n",
       "  --sklearn-color-border-box: var(--sg-text-color, var(--theme-code-foreground, var(--jp-content-font-color1, black)));\n",
       "  --sklearn-color-icon: #696969;\n",
       "\n",
       "  @media (prefers-color-scheme: dark) {\n",
       "    /* Redefinition of color scheme for dark theme */\n",
       "    --sklearn-color-text-on-default-background: var(--sg-text-color, var(--theme-code-foreground, var(--jp-content-font-color1, white)));\n",
       "    --sklearn-color-background: var(--sg-background-color, var(--theme-background, var(--jp-layout-color0, #111)));\n",
       "    --sklearn-color-border-box: var(--sg-text-color, var(--theme-code-foreground, var(--jp-content-font-color1, white)));\n",
       "    --sklearn-color-icon: #878787;\n",
       "  }\n",
       "}\n",
       "\n",
       "#sk-container-id-2 {\n",
       "  color: var(--sklearn-color-text);\n",
       "}\n",
       "\n",
       "#sk-container-id-2 pre {\n",
       "  padding: 0;\n",
       "}\n",
       "\n",
       "#sk-container-id-2 input.sk-hidden--visually {\n",
       "  border: 0;\n",
       "  clip: rect(1px 1px 1px 1px);\n",
       "  clip: rect(1px, 1px, 1px, 1px);\n",
       "  height: 1px;\n",
       "  margin: -1px;\n",
       "  overflow: hidden;\n",
       "  padding: 0;\n",
       "  position: absolute;\n",
       "  width: 1px;\n",
       "}\n",
       "\n",
       "#sk-container-id-2 div.sk-dashed-wrapped {\n",
       "  border: 1px dashed var(--sklearn-color-line);\n",
       "  margin: 0 0.4em 0.5em 0.4em;\n",
       "  box-sizing: border-box;\n",
       "  padding-bottom: 0.4em;\n",
       "  background-color: var(--sklearn-color-background);\n",
       "}\n",
       "\n",
       "#sk-container-id-2 div.sk-container {\n",
       "  /* jupyter's `normalize.less` sets `[hidden] { display: none; }`\n",
       "     but bootstrap.min.css set `[hidden] { display: none !important; }`\n",
       "     so we also need the `!important` here to be able to override the\n",
       "     default hidden behavior on the sphinx rendered scikit-learn.org.\n",
       "     See: https://github.com/scikit-learn/scikit-learn/issues/21755 */\n",
       "  display: inline-block !important;\n",
       "  position: relative;\n",
       "}\n",
       "\n",
       "#sk-container-id-2 div.sk-text-repr-fallback {\n",
       "  display: none;\n",
       "}\n",
       "\n",
       "div.sk-parallel-item,\n",
       "div.sk-serial,\n",
       "div.sk-item {\n",
       "  /* draw centered vertical line to link estimators */\n",
       "  background-image: linear-gradient(var(--sklearn-color-text-on-default-background), var(--sklearn-color-text-on-default-background));\n",
       "  background-size: 2px 100%;\n",
       "  background-repeat: no-repeat;\n",
       "  background-position: center center;\n",
       "}\n",
       "\n",
       "/* Parallel-specific style estimator block */\n",
       "\n",
       "#sk-container-id-2 div.sk-parallel-item::after {\n",
       "  content: \"\";\n",
       "  width: 100%;\n",
       "  border-bottom: 2px solid var(--sklearn-color-text-on-default-background);\n",
       "  flex-grow: 1;\n",
       "}\n",
       "\n",
       "#sk-container-id-2 div.sk-parallel {\n",
       "  display: flex;\n",
       "  align-items: stretch;\n",
       "  justify-content: center;\n",
       "  background-color: var(--sklearn-color-background);\n",
       "  position: relative;\n",
       "}\n",
       "\n",
       "#sk-container-id-2 div.sk-parallel-item {\n",
       "  display: flex;\n",
       "  flex-direction: column;\n",
       "}\n",
       "\n",
       "#sk-container-id-2 div.sk-parallel-item:first-child::after {\n",
       "  align-self: flex-end;\n",
       "  width: 50%;\n",
       "}\n",
       "\n",
       "#sk-container-id-2 div.sk-parallel-item:last-child::after {\n",
       "  align-self: flex-start;\n",
       "  width: 50%;\n",
       "}\n",
       "\n",
       "#sk-container-id-2 div.sk-parallel-item:only-child::after {\n",
       "  width: 0;\n",
       "}\n",
       "\n",
       "/* Serial-specific style estimator block */\n",
       "\n",
       "#sk-container-id-2 div.sk-serial {\n",
       "  display: flex;\n",
       "  flex-direction: column;\n",
       "  align-items: center;\n",
       "  background-color: var(--sklearn-color-background);\n",
       "  padding-right: 1em;\n",
       "  padding-left: 1em;\n",
       "}\n",
       "\n",
       "\n",
       "/* Toggleable style: style used for estimator/Pipeline/ColumnTransformer box that is\n",
       "clickable and can be expanded/collapsed.\n",
       "- Pipeline and ColumnTransformer use this feature and define the default style\n",
       "- Estimators will overwrite some part of the style using the `sk-estimator` class\n",
       "*/\n",
       "\n",
       "/* Pipeline and ColumnTransformer style (default) */\n",
       "\n",
       "#sk-container-id-2 div.sk-toggleable {\n",
       "  /* Default theme specific background. It is overwritten whether we have a\n",
       "  specific estimator or a Pipeline/ColumnTransformer */\n",
       "  background-color: var(--sklearn-color-background);\n",
       "}\n",
       "\n",
       "/* Toggleable label */\n",
       "#sk-container-id-2 label.sk-toggleable__label {\n",
       "  cursor: pointer;\n",
       "  display: flex;\n",
       "  width: 100%;\n",
       "  margin-bottom: 0;\n",
       "  padding: 0.5em;\n",
       "  box-sizing: border-box;\n",
       "  text-align: center;\n",
       "  align-items: start;\n",
       "  justify-content: space-between;\n",
       "  gap: 0.5em;\n",
       "}\n",
       "\n",
       "#sk-container-id-2 label.sk-toggleable__label .caption {\n",
       "  font-size: 0.6rem;\n",
       "  font-weight: lighter;\n",
       "  color: var(--sklearn-color-text-muted);\n",
       "}\n",
       "\n",
       "#sk-container-id-2 label.sk-toggleable__label-arrow:before {\n",
       "  /* Arrow on the left of the label */\n",
       "  content: \"▸\";\n",
       "  float: left;\n",
       "  margin-right: 0.25em;\n",
       "  color: var(--sklearn-color-icon);\n",
       "}\n",
       "\n",
       "#sk-container-id-2 label.sk-toggleable__label-arrow:hover:before {\n",
       "  color: var(--sklearn-color-text);\n",
       "}\n",
       "\n",
       "/* Toggleable content - dropdown */\n",
       "\n",
       "#sk-container-id-2 div.sk-toggleable__content {\n",
       "  display: none;\n",
       "  text-align: left;\n",
       "  /* unfitted */\n",
       "  background-color: var(--sklearn-color-unfitted-level-0);\n",
       "}\n",
       "\n",
       "#sk-container-id-2 div.sk-toggleable__content.fitted {\n",
       "  /* fitted */\n",
       "  background-color: var(--sklearn-color-fitted-level-0);\n",
       "}\n",
       "\n",
       "#sk-container-id-2 div.sk-toggleable__content pre {\n",
       "  margin: 0.2em;\n",
       "  border-radius: 0.25em;\n",
       "  color: var(--sklearn-color-text);\n",
       "  /* unfitted */\n",
       "  background-color: var(--sklearn-color-unfitted-level-0);\n",
       "}\n",
       "\n",
       "#sk-container-id-2 div.sk-toggleable__content.fitted pre {\n",
       "  /* unfitted */\n",
       "  background-color: var(--sklearn-color-fitted-level-0);\n",
       "}\n",
       "\n",
       "#sk-container-id-2 input.sk-toggleable__control:checked~div.sk-toggleable__content {\n",
       "  /* Expand drop-down */\n",
       "  display: block;\n",
       "  width: 100%;\n",
       "  overflow: visible;\n",
       "}\n",
       "\n",
       "#sk-container-id-2 input.sk-toggleable__control:checked~label.sk-toggleable__label-arrow:before {\n",
       "  content: \"▾\";\n",
       "}\n",
       "\n",
       "/* Pipeline/ColumnTransformer-specific style */\n",
       "\n",
       "#sk-container-id-2 div.sk-label input.sk-toggleable__control:checked~label.sk-toggleable__label {\n",
       "  color: var(--sklearn-color-text);\n",
       "  background-color: var(--sklearn-color-unfitted-level-2);\n",
       "}\n",
       "\n",
       "#sk-container-id-2 div.sk-label.fitted input.sk-toggleable__control:checked~label.sk-toggleable__label {\n",
       "  background-color: var(--sklearn-color-fitted-level-2);\n",
       "}\n",
       "\n",
       "/* Estimator-specific style */\n",
       "\n",
       "/* Colorize estimator box */\n",
       "#sk-container-id-2 div.sk-estimator input.sk-toggleable__control:checked~label.sk-toggleable__label {\n",
       "  /* unfitted */\n",
       "  background-color: var(--sklearn-color-unfitted-level-2);\n",
       "}\n",
       "\n",
       "#sk-container-id-2 div.sk-estimator.fitted input.sk-toggleable__control:checked~label.sk-toggleable__label {\n",
       "  /* fitted */\n",
       "  background-color: var(--sklearn-color-fitted-level-2);\n",
       "}\n",
       "\n",
       "#sk-container-id-2 div.sk-label label.sk-toggleable__label,\n",
       "#sk-container-id-2 div.sk-label label {\n",
       "  /* The background is the default theme color */\n",
       "  color: var(--sklearn-color-text-on-default-background);\n",
       "}\n",
       "\n",
       "/* On hover, darken the color of the background */\n",
       "#sk-container-id-2 div.sk-label:hover label.sk-toggleable__label {\n",
       "  color: var(--sklearn-color-text);\n",
       "  background-color: var(--sklearn-color-unfitted-level-2);\n",
       "}\n",
       "\n",
       "/* Label box, darken color on hover, fitted */\n",
       "#sk-container-id-2 div.sk-label.fitted:hover label.sk-toggleable__label.fitted {\n",
       "  color: var(--sklearn-color-text);\n",
       "  background-color: var(--sklearn-color-fitted-level-2);\n",
       "}\n",
       "\n",
       "/* Estimator label */\n",
       "\n",
       "#sk-container-id-2 div.sk-label label {\n",
       "  font-family: monospace;\n",
       "  font-weight: bold;\n",
       "  display: inline-block;\n",
       "  line-height: 1.2em;\n",
       "}\n",
       "\n",
       "#sk-container-id-2 div.sk-label-container {\n",
       "  text-align: center;\n",
       "}\n",
       "\n",
       "/* Estimator-specific */\n",
       "#sk-container-id-2 div.sk-estimator {\n",
       "  font-family: monospace;\n",
       "  border: 1px dotted var(--sklearn-color-border-box);\n",
       "  border-radius: 0.25em;\n",
       "  box-sizing: border-box;\n",
       "  margin-bottom: 0.5em;\n",
       "  /* unfitted */\n",
       "  background-color: var(--sklearn-color-unfitted-level-0);\n",
       "}\n",
       "\n",
       "#sk-container-id-2 div.sk-estimator.fitted {\n",
       "  /* fitted */\n",
       "  background-color: var(--sklearn-color-fitted-level-0);\n",
       "}\n",
       "\n",
       "/* on hover */\n",
       "#sk-container-id-2 div.sk-estimator:hover {\n",
       "  /* unfitted */\n",
       "  background-color: var(--sklearn-color-unfitted-level-2);\n",
       "}\n",
       "\n",
       "#sk-container-id-2 div.sk-estimator.fitted:hover {\n",
       "  /* fitted */\n",
       "  background-color: var(--sklearn-color-fitted-level-2);\n",
       "}\n",
       "\n",
       "/* Specification for estimator info (e.g. \"i\" and \"?\") */\n",
       "\n",
       "/* Common style for \"i\" and \"?\" */\n",
       "\n",
       ".sk-estimator-doc-link,\n",
       "a:link.sk-estimator-doc-link,\n",
       "a:visited.sk-estimator-doc-link {\n",
       "  float: right;\n",
       "  font-size: smaller;\n",
       "  line-height: 1em;\n",
       "  font-family: monospace;\n",
       "  background-color: var(--sklearn-color-background);\n",
       "  border-radius: 1em;\n",
       "  height: 1em;\n",
       "  width: 1em;\n",
       "  text-decoration: none !important;\n",
       "  margin-left: 0.5em;\n",
       "  text-align: center;\n",
       "  /* unfitted */\n",
       "  border: var(--sklearn-color-unfitted-level-1) 1pt solid;\n",
       "  color: var(--sklearn-color-unfitted-level-1);\n",
       "}\n",
       "\n",
       ".sk-estimator-doc-link.fitted,\n",
       "a:link.sk-estimator-doc-link.fitted,\n",
       "a:visited.sk-estimator-doc-link.fitted {\n",
       "  /* fitted */\n",
       "  border: var(--sklearn-color-fitted-level-1) 1pt solid;\n",
       "  color: var(--sklearn-color-fitted-level-1);\n",
       "}\n",
       "\n",
       "/* On hover */\n",
       "div.sk-estimator:hover .sk-estimator-doc-link:hover,\n",
       ".sk-estimator-doc-link:hover,\n",
       "div.sk-label-container:hover .sk-estimator-doc-link:hover,\n",
       ".sk-estimator-doc-link:hover {\n",
       "  /* unfitted */\n",
       "  background-color: var(--sklearn-color-unfitted-level-3);\n",
       "  color: var(--sklearn-color-background);\n",
       "  text-decoration: none;\n",
       "}\n",
       "\n",
       "div.sk-estimator.fitted:hover .sk-estimator-doc-link.fitted:hover,\n",
       ".sk-estimator-doc-link.fitted:hover,\n",
       "div.sk-label-container:hover .sk-estimator-doc-link.fitted:hover,\n",
       ".sk-estimator-doc-link.fitted:hover {\n",
       "  /* fitted */\n",
       "  background-color: var(--sklearn-color-fitted-level-3);\n",
       "  color: var(--sklearn-color-background);\n",
       "  text-decoration: none;\n",
       "}\n",
       "\n",
       "/* Span, style for the box shown on hovering the info icon */\n",
       ".sk-estimator-doc-link span {\n",
       "  display: none;\n",
       "  z-index: 9999;\n",
       "  position: relative;\n",
       "  font-weight: normal;\n",
       "  right: .2ex;\n",
       "  padding: .5ex;\n",
       "  margin: .5ex;\n",
       "  width: min-content;\n",
       "  min-width: 20ex;\n",
       "  max-width: 50ex;\n",
       "  color: var(--sklearn-color-text);\n",
       "  box-shadow: 2pt 2pt 4pt #999;\n",
       "  /* unfitted */\n",
       "  background: var(--sklearn-color-unfitted-level-0);\n",
       "  border: .5pt solid var(--sklearn-color-unfitted-level-3);\n",
       "}\n",
       "\n",
       ".sk-estimator-doc-link.fitted span {\n",
       "  /* fitted */\n",
       "  background: var(--sklearn-color-fitted-level-0);\n",
       "  border: var(--sklearn-color-fitted-level-3);\n",
       "}\n",
       "\n",
       ".sk-estimator-doc-link:hover span {\n",
       "  display: block;\n",
       "}\n",
       "\n",
       "/* \"?\"-specific style due to the `<a>` HTML tag */\n",
       "\n",
       "#sk-container-id-2 a.estimator_doc_link {\n",
       "  float: right;\n",
       "  font-size: 1rem;\n",
       "  line-height: 1em;\n",
       "  font-family: monospace;\n",
       "  background-color: var(--sklearn-color-background);\n",
       "  border-radius: 1rem;\n",
       "  height: 1rem;\n",
       "  width: 1rem;\n",
       "  text-decoration: none;\n",
       "  /* unfitted */\n",
       "  color: var(--sklearn-color-unfitted-level-1);\n",
       "  border: var(--sklearn-color-unfitted-level-1) 1pt solid;\n",
       "}\n",
       "\n",
       "#sk-container-id-2 a.estimator_doc_link.fitted {\n",
       "  /* fitted */\n",
       "  border: var(--sklearn-color-fitted-level-1) 1pt solid;\n",
       "  color: var(--sklearn-color-fitted-level-1);\n",
       "}\n",
       "\n",
       "/* On hover */\n",
       "#sk-container-id-2 a.estimator_doc_link:hover {\n",
       "  /* unfitted */\n",
       "  background-color: var(--sklearn-color-unfitted-level-3);\n",
       "  color: var(--sklearn-color-background);\n",
       "  text-decoration: none;\n",
       "}\n",
       "\n",
       "#sk-container-id-2 a.estimator_doc_link.fitted:hover {\n",
       "  /* fitted */\n",
       "  background-color: var(--sklearn-color-fitted-level-3);\n",
       "}\n",
       "\n",
       ".estimator-table summary {\n",
       "    padding: .5rem;\n",
       "    font-family: monospace;\n",
       "    cursor: pointer;\n",
       "}\n",
       "\n",
       ".estimator-table details[open] {\n",
       "    padding-left: 0.1rem;\n",
       "    padding-right: 0.1rem;\n",
       "    padding-bottom: 0.3rem;\n",
       "}\n",
       "\n",
       ".estimator-table .parameters-table {\n",
       "    margin-left: auto !important;\n",
       "    margin-right: auto !important;\n",
       "}\n",
       "\n",
       ".estimator-table .parameters-table tr:nth-child(odd) {\n",
       "    background-color: #fff;\n",
       "}\n",
       "\n",
       ".estimator-table .parameters-table tr:nth-child(even) {\n",
       "    background-color: #f6f6f6;\n",
       "}\n",
       "\n",
       ".estimator-table .parameters-table tr:hover {\n",
       "    background-color: #e0e0e0;\n",
       "}\n",
       "\n",
       ".estimator-table table td {\n",
       "    border: 1px solid rgba(106, 105, 104, 0.232);\n",
       "}\n",
       "\n",
       ".user-set td {\n",
       "    color:rgb(255, 94, 0);\n",
       "    text-align: left;\n",
       "}\n",
       "\n",
       ".user-set td.value pre {\n",
       "    color:rgb(255, 94, 0) !important;\n",
       "    background-color: transparent !important;\n",
       "}\n",
       "\n",
       ".default td {\n",
       "    color: black;\n",
       "    text-align: left;\n",
       "}\n",
       "\n",
       ".user-set td i,\n",
       ".default td i {\n",
       "    color: black;\n",
       "}\n",
       "\n",
       ".copy-paste-icon {\n",
       "    background-image: url(data:image/svg+xml;base64,PHN2ZyB4bWxucz0iaHR0cDovL3d3dy53My5vcmcvMjAwMC9zdmciIHZpZXdCb3g9IjAgMCA0NDggNTEyIj48IS0tIUZvbnQgQXdlc29tZSBGcmVlIDYuNy4yIGJ5IEBmb250YXdlc29tZSAtIGh0dHBzOi8vZm9udGF3ZXNvbWUuY29tIExpY2Vuc2UgLSBodHRwczovL2ZvbnRhd2Vzb21lLmNvbS9saWNlbnNlL2ZyZWUgQ29weXJpZ2h0IDIwMjUgRm9udGljb25zLCBJbmMuLS0+PHBhdGggZD0iTTIwOCAwTDMzMi4xIDBjMTIuNyAwIDI0LjkgNS4xIDMzLjkgMTQuMWw2Ny45IDY3LjljOSA5IDE0LjEgMjEuMiAxNC4xIDMzLjlMNDQ4IDMzNmMwIDI2LjUtMjEuNSA0OC00OCA0OGwtMTkyIDBjLTI2LjUgMC00OC0yMS41LTQ4LTQ4bDAtMjg4YzAtMjYuNSAyMS41LTQ4IDQ4LTQ4ek00OCAxMjhsODAgMCAwIDY0LTY0IDAgMCAyNTYgMTkyIDAgMC0zMiA2NCAwIDAgNDhjMCAyNi41LTIxLjUgNDgtNDggNDhMNDggNTEyYy0yNi41IDAtNDgtMjEuNS00OC00OEwwIDE3NmMwLTI2LjUgMjEuNS00OCA0OC00OHoiLz48L3N2Zz4=);\n",
       "    background-repeat: no-repeat;\n",
       "    background-size: 14px 14px;\n",
       "    background-position: 0;\n",
       "    display: inline-block;\n",
       "    width: 14px;\n",
       "    height: 14px;\n",
       "    cursor: pointer;\n",
       "}\n",
       "</style><body><div id=\"sk-container-id-2\" class=\"sk-top-container\"><div class=\"sk-text-repr-fallback\"><pre>Pipeline(steps=[(&#x27;simpleimputer&#x27;, SimpleImputer()),\n",
       "                (&#x27;linearregression&#x27;, LinearRegression())])</pre><b>In a Jupyter environment, please rerun this cell to show the HTML representation or trust the notebook. <br />On GitHub, the HTML representation is unable to render, please try loading this page with nbviewer.org.</b></div><div class=\"sk-container\" hidden><div class=\"sk-item sk-dashed-wrapped\"><div class=\"sk-label-container\"><div class=\"sk-label fitted sk-toggleable\"><input class=\"sk-toggleable__control sk-hidden--visually\" id=\"sk-estimator-id-2\" type=\"checkbox\" ><label for=\"sk-estimator-id-2\" class=\"sk-toggleable__label fitted sk-toggleable__label-arrow\"><div><div>Pipeline</div></div><div><a class=\"sk-estimator-doc-link fitted\" rel=\"noreferrer\" target=\"_blank\" href=\"https://scikit-learn.org/1.7/modules/generated/sklearn.pipeline.Pipeline.html\">?<span>Documentation for Pipeline</span></a><span class=\"sk-estimator-doc-link fitted\">i<span>Fitted</span></span></div></label><div class=\"sk-toggleable__content fitted\" data-param-prefix=\"\">\n",
       "        <div class=\"estimator-table\">\n",
       "            <details>\n",
       "                <summary>Parameters</summary>\n",
       "                <table class=\"parameters-table\">\n",
       "                  <tbody>\n",
       "                    \n",
       "        <tr class=\"user-set\">\n",
       "            <td><i class=\"copy-paste-icon\"\n",
       "                 onclick=\"copyToClipboard('steps',\n",
       "                          this.parentElement.nextElementSibling)\"\n",
       "            ></i></td>\n",
       "            <td class=\"param\">steps&nbsp;</td>\n",
       "            <td class=\"value\">[(&#x27;simpleimputer&#x27;, ...), (&#x27;linearregression&#x27;, ...)]</td>\n",
       "        </tr>\n",
       "    \n",
       "\n",
       "        <tr class=\"default\">\n",
       "            <td><i class=\"copy-paste-icon\"\n",
       "                 onclick=\"copyToClipboard('transform_input',\n",
       "                          this.parentElement.nextElementSibling)\"\n",
       "            ></i></td>\n",
       "            <td class=\"param\">transform_input&nbsp;</td>\n",
       "            <td class=\"value\">None</td>\n",
       "        </tr>\n",
       "    \n",
       "\n",
       "        <tr class=\"default\">\n",
       "            <td><i class=\"copy-paste-icon\"\n",
       "                 onclick=\"copyToClipboard('memory',\n",
       "                          this.parentElement.nextElementSibling)\"\n",
       "            ></i></td>\n",
       "            <td class=\"param\">memory&nbsp;</td>\n",
       "            <td class=\"value\">None</td>\n",
       "        </tr>\n",
       "    \n",
       "\n",
       "        <tr class=\"default\">\n",
       "            <td><i class=\"copy-paste-icon\"\n",
       "                 onclick=\"copyToClipboard('verbose',\n",
       "                          this.parentElement.nextElementSibling)\"\n",
       "            ></i></td>\n",
       "            <td class=\"param\">verbose&nbsp;</td>\n",
       "            <td class=\"value\">False</td>\n",
       "        </tr>\n",
       "    \n",
       "                  </tbody>\n",
       "                </table>\n",
       "            </details>\n",
       "        </div>\n",
       "    </div></div></div><div class=\"sk-serial\"><div class=\"sk-item\"><div class=\"sk-estimator fitted sk-toggleable\"><input class=\"sk-toggleable__control sk-hidden--visually\" id=\"sk-estimator-id-3\" type=\"checkbox\" ><label for=\"sk-estimator-id-3\" class=\"sk-toggleable__label fitted sk-toggleable__label-arrow\"><div><div>SimpleImputer</div></div><div><a class=\"sk-estimator-doc-link fitted\" rel=\"noreferrer\" target=\"_blank\" href=\"https://scikit-learn.org/1.7/modules/generated/sklearn.impute.SimpleImputer.html\">?<span>Documentation for SimpleImputer</span></a></div></label><div class=\"sk-toggleable__content fitted\" data-param-prefix=\"simpleimputer__\">\n",
       "        <div class=\"estimator-table\">\n",
       "            <details>\n",
       "                <summary>Parameters</summary>\n",
       "                <table class=\"parameters-table\">\n",
       "                  <tbody>\n",
       "                    \n",
       "        <tr class=\"default\">\n",
       "            <td><i class=\"copy-paste-icon\"\n",
       "                 onclick=\"copyToClipboard('missing_values',\n",
       "                          this.parentElement.nextElementSibling)\"\n",
       "            ></i></td>\n",
       "            <td class=\"param\">missing_values&nbsp;</td>\n",
       "            <td class=\"value\">nan</td>\n",
       "        </tr>\n",
       "    \n",
       "\n",
       "        <tr class=\"default\">\n",
       "            <td><i class=\"copy-paste-icon\"\n",
       "                 onclick=\"copyToClipboard('strategy',\n",
       "                          this.parentElement.nextElementSibling)\"\n",
       "            ></i></td>\n",
       "            <td class=\"param\">strategy&nbsp;</td>\n",
       "            <td class=\"value\">&#x27;mean&#x27;</td>\n",
       "        </tr>\n",
       "    \n",
       "\n",
       "        <tr class=\"default\">\n",
       "            <td><i class=\"copy-paste-icon\"\n",
       "                 onclick=\"copyToClipboard('fill_value',\n",
       "                          this.parentElement.nextElementSibling)\"\n",
       "            ></i></td>\n",
       "            <td class=\"param\">fill_value&nbsp;</td>\n",
       "            <td class=\"value\">None</td>\n",
       "        </tr>\n",
       "    \n",
       "\n",
       "        <tr class=\"default\">\n",
       "            <td><i class=\"copy-paste-icon\"\n",
       "                 onclick=\"copyToClipboard('copy',\n",
       "                          this.parentElement.nextElementSibling)\"\n",
       "            ></i></td>\n",
       "            <td class=\"param\">copy&nbsp;</td>\n",
       "            <td class=\"value\">True</td>\n",
       "        </tr>\n",
       "    \n",
       "\n",
       "        <tr class=\"default\">\n",
       "            <td><i class=\"copy-paste-icon\"\n",
       "                 onclick=\"copyToClipboard('add_indicator',\n",
       "                          this.parentElement.nextElementSibling)\"\n",
       "            ></i></td>\n",
       "            <td class=\"param\">add_indicator&nbsp;</td>\n",
       "            <td class=\"value\">False</td>\n",
       "        </tr>\n",
       "    \n",
       "\n",
       "        <tr class=\"default\">\n",
       "            <td><i class=\"copy-paste-icon\"\n",
       "                 onclick=\"copyToClipboard('keep_empty_features',\n",
       "                          this.parentElement.nextElementSibling)\"\n",
       "            ></i></td>\n",
       "            <td class=\"param\">keep_empty_features&nbsp;</td>\n",
       "            <td class=\"value\">False</td>\n",
       "        </tr>\n",
       "    \n",
       "                  </tbody>\n",
       "                </table>\n",
       "            </details>\n",
       "        </div>\n",
       "    </div></div></div><div class=\"sk-item\"><div class=\"sk-estimator fitted sk-toggleable\"><input class=\"sk-toggleable__control sk-hidden--visually\" id=\"sk-estimator-id-4\" type=\"checkbox\" ><label for=\"sk-estimator-id-4\" class=\"sk-toggleable__label fitted sk-toggleable__label-arrow\"><div><div>LinearRegression</div></div><div><a class=\"sk-estimator-doc-link fitted\" rel=\"noreferrer\" target=\"_blank\" href=\"https://scikit-learn.org/1.7/modules/generated/sklearn.linear_model.LinearRegression.html\">?<span>Documentation for LinearRegression</span></a></div></label><div class=\"sk-toggleable__content fitted\" data-param-prefix=\"linearregression__\">\n",
       "        <div class=\"estimator-table\">\n",
       "            <details>\n",
       "                <summary>Parameters</summary>\n",
       "                <table class=\"parameters-table\">\n",
       "                  <tbody>\n",
       "                    \n",
       "        <tr class=\"default\">\n",
       "            <td><i class=\"copy-paste-icon\"\n",
       "                 onclick=\"copyToClipboard('fit_intercept',\n",
       "                          this.parentElement.nextElementSibling)\"\n",
       "            ></i></td>\n",
       "            <td class=\"param\">fit_intercept&nbsp;</td>\n",
       "            <td class=\"value\">True</td>\n",
       "        </tr>\n",
       "    \n",
       "\n",
       "        <tr class=\"default\">\n",
       "            <td><i class=\"copy-paste-icon\"\n",
       "                 onclick=\"copyToClipboard('copy_X',\n",
       "                          this.parentElement.nextElementSibling)\"\n",
       "            ></i></td>\n",
       "            <td class=\"param\">copy_X&nbsp;</td>\n",
       "            <td class=\"value\">True</td>\n",
       "        </tr>\n",
       "    \n",
       "\n",
       "        <tr class=\"default\">\n",
       "            <td><i class=\"copy-paste-icon\"\n",
       "                 onclick=\"copyToClipboard('tol',\n",
       "                          this.parentElement.nextElementSibling)\"\n",
       "            ></i></td>\n",
       "            <td class=\"param\">tol&nbsp;</td>\n",
       "            <td class=\"value\">1e-06</td>\n",
       "        </tr>\n",
       "    \n",
       "\n",
       "        <tr class=\"default\">\n",
       "            <td><i class=\"copy-paste-icon\"\n",
       "                 onclick=\"copyToClipboard('n_jobs',\n",
       "                          this.parentElement.nextElementSibling)\"\n",
       "            ></i></td>\n",
       "            <td class=\"param\">n_jobs&nbsp;</td>\n",
       "            <td class=\"value\">None</td>\n",
       "        </tr>\n",
       "    \n",
       "\n",
       "        <tr class=\"default\">\n",
       "            <td><i class=\"copy-paste-icon\"\n",
       "                 onclick=\"copyToClipboard('positive',\n",
       "                          this.parentElement.nextElementSibling)\"\n",
       "            ></i></td>\n",
       "            <td class=\"param\">positive&nbsp;</td>\n",
       "            <td class=\"value\">False</td>\n",
       "        </tr>\n",
       "    \n",
       "                  </tbody>\n",
       "                </table>\n",
       "            </details>\n",
       "        </div>\n",
       "    </div></div></div></div></div></div></div><script>function copyToClipboard(text, element) {\n",
       "    // Get the parameter prefix from the closest toggleable content\n",
       "    const toggleableContent = element.closest('.sk-toggleable__content');\n",
       "    const paramPrefix = toggleableContent ? toggleableContent.dataset.paramPrefix : '';\n",
       "    const fullParamName = paramPrefix ? `${paramPrefix}${text}` : text;\n",
       "\n",
       "    const originalStyle = element.style;\n",
       "    const computedStyle = window.getComputedStyle(element);\n",
       "    const originalWidth = computedStyle.width;\n",
       "    const originalHTML = element.innerHTML.replace('Copied!', '');\n",
       "\n",
       "    navigator.clipboard.writeText(fullParamName)\n",
       "        .then(() => {\n",
       "            element.style.width = originalWidth;\n",
       "            element.style.color = 'green';\n",
       "            element.innerHTML = \"Copied!\";\n",
       "\n",
       "            setTimeout(() => {\n",
       "                element.innerHTML = originalHTML;\n",
       "                element.style = originalStyle;\n",
       "            }, 2000);\n",
       "        })\n",
       "        .catch(err => {\n",
       "            console.error('Failed to copy:', err);\n",
       "            element.style.color = 'red';\n",
       "            element.innerHTML = \"Failed!\";\n",
       "            setTimeout(() => {\n",
       "                element.innerHTML = originalHTML;\n",
       "                element.style = originalStyle;\n",
       "            }, 2000);\n",
       "        });\n",
       "    return false;\n",
       "}\n",
       "\n",
       "document.querySelectorAll('.fa-regular.fa-copy').forEach(function(element) {\n",
       "    const toggleableContent = element.closest('.sk-toggleable__content');\n",
       "    const paramPrefix = toggleableContent ? toggleableContent.dataset.paramPrefix : '';\n",
       "    const paramName = element.parentElement.nextElementSibling.textContent.trim();\n",
       "    const fullParamName = paramPrefix ? `${paramPrefix}${paramName}` : paramName;\n",
       "\n",
       "    element.setAttribute('title', fullParamName);\n",
       "});\n",
       "</script></body>"
      ],
      "text/plain": [
       "Pipeline(steps=[('simpleimputer', SimpleImputer()),\n",
       "                ('linearregression', LinearRegression())])"
      ]
     },
     "execution_count": 28,
     "metadata": {},
     "output_type": "execute_result"
    }
   ],
   "source": [
    "model.fit(X_train, y_train)"
   ]
  },
  {
   "cell_type": "markdown",
   "id": "02ecc97d",
   "metadata": {},
   "source": [
    "## Evalute \n",
    "#### Generate Predictions"
   ]
  },
  {
   "cell_type": "code",
   "execution_count": 29,
   "id": "e7ed8ef7",
   "metadata": {},
   "outputs": [],
   "source": [
    "y_pred_training = model.predict(X_train)"
   ]
  },
  {
   "cell_type": "markdown",
   "id": "05129e5c",
   "metadata": {},
   "source": [
    "### Training mean absolute error"
   ]
  },
  {
   "cell_type": "code",
   "execution_count": 30,
   "id": "d8d66f12",
   "metadata": {},
   "outputs": [
    {
     "name": "stdout",
     "output_type": "stream",
     "text": [
      "Training MAE: 42962.72\n"
     ]
    }
   ],
   "source": [
    "mae_training = mean_absolute_error(y_train, y_pred_training)\n",
    "print(\"Training MAE:\", round(mae_training, 2))"
   ]
  },
  {
   "cell_type": "code",
   "execution_count": 31,
   "id": "53d85754",
   "metadata": {},
   "outputs": [
    {
     "ename": "FileNotFoundError",
     "evalue": "[Errno 2] No such file or directory: 'data/buenos-aires-test-features.csv'",
     "output_type": "error",
     "traceback": [
      "\u001b[31m---------------------------------------------------------------------------\u001b[39m",
      "\u001b[31mFileNotFoundError\u001b[39m                         Traceback (most recent call last)",
      "\u001b[36mCell\u001b[39m\u001b[36m \u001b[39m\u001b[32mIn[31]\u001b[39m\u001b[32m, line 1\u001b[39m\n\u001b[32m----> \u001b[39m\u001b[32m1\u001b[39m X_test = \u001b[43mpd\u001b[49m\u001b[43m.\u001b[49m\u001b[43mread_csv\u001b[49m\u001b[43m(\u001b[49m\u001b[33;43m\"\u001b[39;49m\u001b[33;43mdata/buenos-aires-test-features.csv\u001b[39;49m\u001b[33;43m\"\u001b[39;49m\u001b[43m)\u001b[49m[features]\n\u001b[32m      2\u001b[39m y_pred_test = pd.Series(model.predict(X_test))\n\u001b[32m      3\u001b[39m y_pred_test.head()\n",
      "\u001b[36mFile \u001b[39m\u001b[32m~\\AppData\\Local\\Packages\\PythonSoftwareFoundation.Python.3.11_qbz5n2kfra8p0\\LocalCache\\local-packages\\Python311\\site-packages\\pandas\\io\\parsers\\readers.py:1026\u001b[39m, in \u001b[36mread_csv\u001b[39m\u001b[34m(filepath_or_buffer, sep, delimiter, header, names, index_col, usecols, dtype, engine, converters, true_values, false_values, skipinitialspace, skiprows, skipfooter, nrows, na_values, keep_default_na, na_filter, verbose, skip_blank_lines, parse_dates, infer_datetime_format, keep_date_col, date_parser, date_format, dayfirst, cache_dates, iterator, chunksize, compression, thousands, decimal, lineterminator, quotechar, quoting, doublequote, escapechar, comment, encoding, encoding_errors, dialect, on_bad_lines, delim_whitespace, low_memory, memory_map, float_precision, storage_options, dtype_backend)\u001b[39m\n\u001b[32m   1013\u001b[39m kwds_defaults = _refine_defaults_read(\n\u001b[32m   1014\u001b[39m     dialect,\n\u001b[32m   1015\u001b[39m     delimiter,\n\u001b[32m   (...)\u001b[39m\u001b[32m   1022\u001b[39m     dtype_backend=dtype_backend,\n\u001b[32m   1023\u001b[39m )\n\u001b[32m   1024\u001b[39m kwds.update(kwds_defaults)\n\u001b[32m-> \u001b[39m\u001b[32m1026\u001b[39m \u001b[38;5;28;01mreturn\u001b[39;00m \u001b[43m_read\u001b[49m\u001b[43m(\u001b[49m\u001b[43mfilepath_or_buffer\u001b[49m\u001b[43m,\u001b[49m\u001b[43m \u001b[49m\u001b[43mkwds\u001b[49m\u001b[43m)\u001b[49m\n",
      "\u001b[36mFile \u001b[39m\u001b[32m~\\AppData\\Local\\Packages\\PythonSoftwareFoundation.Python.3.11_qbz5n2kfra8p0\\LocalCache\\local-packages\\Python311\\site-packages\\pandas\\io\\parsers\\readers.py:620\u001b[39m, in \u001b[36m_read\u001b[39m\u001b[34m(filepath_or_buffer, kwds)\u001b[39m\n\u001b[32m    617\u001b[39m _validate_names(kwds.get(\u001b[33m\"\u001b[39m\u001b[33mnames\u001b[39m\u001b[33m\"\u001b[39m, \u001b[38;5;28;01mNone\u001b[39;00m))\n\u001b[32m    619\u001b[39m \u001b[38;5;66;03m# Create the parser.\u001b[39;00m\n\u001b[32m--> \u001b[39m\u001b[32m620\u001b[39m parser = \u001b[43mTextFileReader\u001b[49m\u001b[43m(\u001b[49m\u001b[43mfilepath_or_buffer\u001b[49m\u001b[43m,\u001b[49m\u001b[43m \u001b[49m\u001b[43m*\u001b[49m\u001b[43m*\u001b[49m\u001b[43mkwds\u001b[49m\u001b[43m)\u001b[49m\n\u001b[32m    622\u001b[39m \u001b[38;5;28;01mif\u001b[39;00m chunksize \u001b[38;5;129;01mor\u001b[39;00m iterator:\n\u001b[32m    623\u001b[39m     \u001b[38;5;28;01mreturn\u001b[39;00m parser\n",
      "\u001b[36mFile \u001b[39m\u001b[32m~\\AppData\\Local\\Packages\\PythonSoftwareFoundation.Python.3.11_qbz5n2kfra8p0\\LocalCache\\local-packages\\Python311\\site-packages\\pandas\\io\\parsers\\readers.py:1620\u001b[39m, in \u001b[36mTextFileReader.__init__\u001b[39m\u001b[34m(self, f, engine, **kwds)\u001b[39m\n\u001b[32m   1617\u001b[39m     \u001b[38;5;28mself\u001b[39m.options[\u001b[33m\"\u001b[39m\u001b[33mhas_index_names\u001b[39m\u001b[33m\"\u001b[39m] = kwds[\u001b[33m\"\u001b[39m\u001b[33mhas_index_names\u001b[39m\u001b[33m\"\u001b[39m]\n\u001b[32m   1619\u001b[39m \u001b[38;5;28mself\u001b[39m.handles: IOHandles | \u001b[38;5;28;01mNone\u001b[39;00m = \u001b[38;5;28;01mNone\u001b[39;00m\n\u001b[32m-> \u001b[39m\u001b[32m1620\u001b[39m \u001b[38;5;28mself\u001b[39m._engine = \u001b[38;5;28;43mself\u001b[39;49m\u001b[43m.\u001b[49m\u001b[43m_make_engine\u001b[49m\u001b[43m(\u001b[49m\u001b[43mf\u001b[49m\u001b[43m,\u001b[49m\u001b[43m \u001b[49m\u001b[38;5;28;43mself\u001b[39;49m\u001b[43m.\u001b[49m\u001b[43mengine\u001b[49m\u001b[43m)\u001b[49m\n",
      "\u001b[36mFile \u001b[39m\u001b[32m~\\AppData\\Local\\Packages\\PythonSoftwareFoundation.Python.3.11_qbz5n2kfra8p0\\LocalCache\\local-packages\\Python311\\site-packages\\pandas\\io\\parsers\\readers.py:1880\u001b[39m, in \u001b[36mTextFileReader._make_engine\u001b[39m\u001b[34m(self, f, engine)\u001b[39m\n\u001b[32m   1878\u001b[39m     \u001b[38;5;28;01mif\u001b[39;00m \u001b[33m\"\u001b[39m\u001b[33mb\u001b[39m\u001b[33m\"\u001b[39m \u001b[38;5;129;01mnot\u001b[39;00m \u001b[38;5;129;01min\u001b[39;00m mode:\n\u001b[32m   1879\u001b[39m         mode += \u001b[33m\"\u001b[39m\u001b[33mb\u001b[39m\u001b[33m\"\u001b[39m\n\u001b[32m-> \u001b[39m\u001b[32m1880\u001b[39m \u001b[38;5;28mself\u001b[39m.handles = \u001b[43mget_handle\u001b[49m\u001b[43m(\u001b[49m\n\u001b[32m   1881\u001b[39m \u001b[43m    \u001b[49m\u001b[43mf\u001b[49m\u001b[43m,\u001b[49m\n\u001b[32m   1882\u001b[39m \u001b[43m    \u001b[49m\u001b[43mmode\u001b[49m\u001b[43m,\u001b[49m\n\u001b[32m   1883\u001b[39m \u001b[43m    \u001b[49m\u001b[43mencoding\u001b[49m\u001b[43m=\u001b[49m\u001b[38;5;28;43mself\u001b[39;49m\u001b[43m.\u001b[49m\u001b[43moptions\u001b[49m\u001b[43m.\u001b[49m\u001b[43mget\u001b[49m\u001b[43m(\u001b[49m\u001b[33;43m\"\u001b[39;49m\u001b[33;43mencoding\u001b[39;49m\u001b[33;43m\"\u001b[39;49m\u001b[43m,\u001b[49m\u001b[43m \u001b[49m\u001b[38;5;28;43;01mNone\u001b[39;49;00m\u001b[43m)\u001b[49m\u001b[43m,\u001b[49m\n\u001b[32m   1884\u001b[39m \u001b[43m    \u001b[49m\u001b[43mcompression\u001b[49m\u001b[43m=\u001b[49m\u001b[38;5;28;43mself\u001b[39;49m\u001b[43m.\u001b[49m\u001b[43moptions\u001b[49m\u001b[43m.\u001b[49m\u001b[43mget\u001b[49m\u001b[43m(\u001b[49m\u001b[33;43m\"\u001b[39;49m\u001b[33;43mcompression\u001b[39;49m\u001b[33;43m\"\u001b[39;49m\u001b[43m,\u001b[49m\u001b[43m \u001b[49m\u001b[38;5;28;43;01mNone\u001b[39;49;00m\u001b[43m)\u001b[49m\u001b[43m,\u001b[49m\n\u001b[32m   1885\u001b[39m \u001b[43m    \u001b[49m\u001b[43mmemory_map\u001b[49m\u001b[43m=\u001b[49m\u001b[38;5;28;43mself\u001b[39;49m\u001b[43m.\u001b[49m\u001b[43moptions\u001b[49m\u001b[43m.\u001b[49m\u001b[43mget\u001b[49m\u001b[43m(\u001b[49m\u001b[33;43m\"\u001b[39;49m\u001b[33;43mmemory_map\u001b[39;49m\u001b[33;43m\"\u001b[39;49m\u001b[43m,\u001b[49m\u001b[43m \u001b[49m\u001b[38;5;28;43;01mFalse\u001b[39;49;00m\u001b[43m)\u001b[49m\u001b[43m,\u001b[49m\n\u001b[32m   1886\u001b[39m \u001b[43m    \u001b[49m\u001b[43mis_text\u001b[49m\u001b[43m=\u001b[49m\u001b[43mis_text\u001b[49m\u001b[43m,\u001b[49m\n\u001b[32m   1887\u001b[39m \u001b[43m    \u001b[49m\u001b[43merrors\u001b[49m\u001b[43m=\u001b[49m\u001b[38;5;28;43mself\u001b[39;49m\u001b[43m.\u001b[49m\u001b[43moptions\u001b[49m\u001b[43m.\u001b[49m\u001b[43mget\u001b[49m\u001b[43m(\u001b[49m\u001b[33;43m\"\u001b[39;49m\u001b[33;43mencoding_errors\u001b[39;49m\u001b[33;43m\"\u001b[39;49m\u001b[43m,\u001b[49m\u001b[43m \u001b[49m\u001b[33;43m\"\u001b[39;49m\u001b[33;43mstrict\u001b[39;49m\u001b[33;43m\"\u001b[39;49m\u001b[43m)\u001b[49m\u001b[43m,\u001b[49m\n\u001b[32m   1888\u001b[39m \u001b[43m    \u001b[49m\u001b[43mstorage_options\u001b[49m\u001b[43m=\u001b[49m\u001b[38;5;28;43mself\u001b[39;49m\u001b[43m.\u001b[49m\u001b[43moptions\u001b[49m\u001b[43m.\u001b[49m\u001b[43mget\u001b[49m\u001b[43m(\u001b[49m\u001b[33;43m\"\u001b[39;49m\u001b[33;43mstorage_options\u001b[39;49m\u001b[33;43m\"\u001b[39;49m\u001b[43m,\u001b[49m\u001b[43m \u001b[49m\u001b[38;5;28;43;01mNone\u001b[39;49;00m\u001b[43m)\u001b[49m\u001b[43m,\u001b[49m\n\u001b[32m   1889\u001b[39m \u001b[43m\u001b[49m\u001b[43m)\u001b[49m\n\u001b[32m   1890\u001b[39m \u001b[38;5;28;01massert\u001b[39;00m \u001b[38;5;28mself\u001b[39m.handles \u001b[38;5;129;01mis\u001b[39;00m \u001b[38;5;129;01mnot\u001b[39;00m \u001b[38;5;28;01mNone\u001b[39;00m\n\u001b[32m   1891\u001b[39m f = \u001b[38;5;28mself\u001b[39m.handles.handle\n",
      "\u001b[36mFile \u001b[39m\u001b[32m~\\AppData\\Local\\Packages\\PythonSoftwareFoundation.Python.3.11_qbz5n2kfra8p0\\LocalCache\\local-packages\\Python311\\site-packages\\pandas\\io\\common.py:873\u001b[39m, in \u001b[36mget_handle\u001b[39m\u001b[34m(path_or_buf, mode, encoding, compression, memory_map, is_text, errors, storage_options)\u001b[39m\n\u001b[32m    868\u001b[39m \u001b[38;5;28;01melif\u001b[39;00m \u001b[38;5;28misinstance\u001b[39m(handle, \u001b[38;5;28mstr\u001b[39m):\n\u001b[32m    869\u001b[39m     \u001b[38;5;66;03m# Check whether the filename is to be opened in binary mode.\u001b[39;00m\n\u001b[32m    870\u001b[39m     \u001b[38;5;66;03m# Binary mode does not support 'encoding' and 'newline'.\u001b[39;00m\n\u001b[32m    871\u001b[39m     \u001b[38;5;28;01mif\u001b[39;00m ioargs.encoding \u001b[38;5;129;01mand\u001b[39;00m \u001b[33m\"\u001b[39m\u001b[33mb\u001b[39m\u001b[33m\"\u001b[39m \u001b[38;5;129;01mnot\u001b[39;00m \u001b[38;5;129;01min\u001b[39;00m ioargs.mode:\n\u001b[32m    872\u001b[39m         \u001b[38;5;66;03m# Encoding\u001b[39;00m\n\u001b[32m--> \u001b[39m\u001b[32m873\u001b[39m         handle = \u001b[38;5;28;43mopen\u001b[39;49m\u001b[43m(\u001b[49m\n\u001b[32m    874\u001b[39m \u001b[43m            \u001b[49m\u001b[43mhandle\u001b[49m\u001b[43m,\u001b[49m\n\u001b[32m    875\u001b[39m \u001b[43m            \u001b[49m\u001b[43mioargs\u001b[49m\u001b[43m.\u001b[49m\u001b[43mmode\u001b[49m\u001b[43m,\u001b[49m\n\u001b[32m    876\u001b[39m \u001b[43m            \u001b[49m\u001b[43mencoding\u001b[49m\u001b[43m=\u001b[49m\u001b[43mioargs\u001b[49m\u001b[43m.\u001b[49m\u001b[43mencoding\u001b[49m\u001b[43m,\u001b[49m\n\u001b[32m    877\u001b[39m \u001b[43m            \u001b[49m\u001b[43merrors\u001b[49m\u001b[43m=\u001b[49m\u001b[43merrors\u001b[49m\u001b[43m,\u001b[49m\n\u001b[32m    878\u001b[39m \u001b[43m            \u001b[49m\u001b[43mnewline\u001b[49m\u001b[43m=\u001b[49m\u001b[33;43m\"\u001b[39;49m\u001b[33;43m\"\u001b[39;49m\u001b[43m,\u001b[49m\n\u001b[32m    879\u001b[39m \u001b[43m        \u001b[49m\u001b[43m)\u001b[49m\n\u001b[32m    880\u001b[39m     \u001b[38;5;28;01melse\u001b[39;00m:\n\u001b[32m    881\u001b[39m         \u001b[38;5;66;03m# Binary mode\u001b[39;00m\n\u001b[32m    882\u001b[39m         handle = \u001b[38;5;28mopen\u001b[39m(handle, ioargs.mode)\n",
      "\u001b[31mFileNotFoundError\u001b[39m: [Errno 2] No such file or directory: 'data/buenos-aires-test-features.csv'"
     ]
    }
   ],
   "source": [
    "X_test = pd.read_csv(\"data/buenos-aires-test-features.csv\")[features]\n",
    "y_pred_test = pd.Series(model.predict(X_test))\n",
    "y_pred_test.head()"
   ]
  },
  {
   "cell_type": "markdown",
   "id": "f67a16fe",
   "metadata": {},
   "source": [
    "## Communication Results\n",
    "\n",
    "### Extract intercepts and coefficients"
   ]
  },
  {
   "cell_type": "code",
   "execution_count": 32,
   "id": "22dfce3a",
   "metadata": {},
   "outputs": [
    {
     "data": {
      "text/plain": [
       "array([196709., 765467.])"
      ]
     },
     "execution_count": 32,
     "metadata": {},
     "output_type": "execute_result"
    }
   ],
   "source": [
    "intercept = model.named_steps[\"linearregression\"].intercept_.round(0)\n",
    "coefficients = model.named_steps[\"linearregression\"].coef_.round(0)\n",
    "coefficients"
   ]
  },
  {
   "cell_type": "code",
   "execution_count": 33,
   "id": "f5016611",
   "metadata": {},
   "outputs": [
    {
     "name": "stdout",
     "output_type": "stream",
     "text": [
      "price = 38113587.0 + ([196709. 765467.] * longitude) + ([196709. 765467.] * latitude)\n"
     ]
    }
   ],
   "source": [
    "print(\n",
    "    f\"price = {intercept} + ({coefficients} * longitude) + ({coefficients} * latitude)\"\n",
    "    )"
   ]
  },
  {
   "cell_type": "code",
   "execution_count": 34,
   "id": "20f19ee2",
   "metadata": {},
   "outputs": [
    {
     "data": {
      "application/vnd.plotly.v1+json": {
       "config": {
        "plotlyServerURL": "https://plot.ly"
       },
       "data": [
        {
         "hovertemplate": "longitude=%{x}<br>latitude=%{y}<br>price=%{z}<extra></extra>",
         "legendgroup": "",
         "marker": {
          "color": "#636efa",
          "line": {
           "color": "DarkSlateGrey",
           "width": 2
          },
          "size": 4,
          "symbol": "circle"
         },
         "mode": "markers",
         "name": "",
         "scene": "scene",
         "showlegend": false,
         "type": "scatter3d",
         "x": {
          "bdata": "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",
          "dtype": "f8"
         },
         "y": {
          "bdata": "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",
          "dtype": "f8"
         },
         "z": {
          "bdata": "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",
          "dtype": "f8"
         }
        },
        {
         "type": "surface",
         "x": {
          "bdata": "DQ+riU9FTcDEKTwxtEJNwHpEzdgYQE3AMV9egH09TcDoee8n4jpNwJ6UgM9GOE3AVa8Rd6s1TcAMyqIeEDNNwMLkM8Z0ME3Aef/EbdktTcAND6uJT0VNwMQpPDG0Qk3AekTN2BhATcAxX16AfT1NwOh57yfiOk3AnpSAz0Y4TcBVrxF3qzVNwAzKoh4QM03AwuQzxnQwTcB5/8Rt2S1NwA0Pq4lPRU3AxCk8MbRCTcB6RM3YGEBNwDFfXoB9PU3A6HnvJ+I6TcCelIDPRjhNwFWvEXerNU3ADMqiHhAzTcDC5DPGdDBNwHn/xG3ZLU3ADQ+riU9FTcDEKTwxtEJNwHpEzdgYQE3AMV9egH09TcDoee8n4jpNwJ6UgM9GOE3AVa8Rd6s1TcAMyqIeEDNNwMLkM8Z0ME3Aef/EbdktTcAND6uJT0VNwMQpPDG0Qk3AekTN2BhATcAxX16AfT1NwOh57yfiOk3AnpSAz0Y4TcBVrxF3qzVNwAzKoh4QM03AwuQzxnQwTcB5/8Rt2S1NwA0Pq4lPRU3AxCk8MbRCTcB6RM3YGEBNwDFfXoB9PU3A6HnvJ+I6TcCelIDPRjhNwFWvEXerNU3ADMqiHhAzTcDC5DPGdDBNwHn/xG3ZLU3ADQ+riU9FTcDEKTwxtEJNwHpEzdgYQE3AMV9egH09TcDoee8n4jpNwJ6UgM9GOE3AVa8Rd6s1TcAMyqIeEDNNwMLkM8Z0ME3Aef/EbdktTcAND6uJT0VNwMQpPDG0Qk3AekTN2BhATcAxX16AfT1NwOh57yfiOk3AnpSAz0Y4TcBVrxF3qzVNwAzKoh4QM03AwuQzxnQwTcB5/8Rt2S1NwA0Pq4lPRU3AxCk8MbRCTcB6RM3YGEBNwDFfXoB9PU3A6HnvJ+I6TcCelIDPRjhNwFWvEXerNU3ADMqiHhAzTcDC5DPGdDBNwHn/xG3ZLU3ADQ+riU9FTcDEKTwxtEJNwHpEzdgYQE3AMV9egH09TcDoee8n4jpNwJ6UgM9GOE3AVa8Rd6s1TcAMyqIeEDNNwMLkM8Z0ME3Aef/EbdktTcA=",
          "dtype": "f8",
          "shape": "10, 10"
         },
         "y": {
          "bdata": "RprTwOpYQcBGmtPA6lhBwEaa08DqWEHARprTwOpYQcBGmtPA6lhBwEaa08DqWEHARprTwOpYQcBGmtPA6lhBwEaa08DqWEHARprTwOpYQcBGoLx3qVZBwEagvHepVkHARqC8d6lWQcBGoLx3qVZBwEagvHepVkHARqC8d6lWQcBGoLx3qVZBwEagvHepVkHARqC8d6lWQcBGoLx3qVZBwEempS5oVEHAR6alLmhUQcBHpqUuaFRBwEempS5oVEHAR6alLmhUQcBHpqUuaFRBwEempS5oVEHAR6alLmhUQcBHpqUuaFRBwEempS5oVEHAR6yO5SZSQcBHrI7lJlJBwEesjuUmUkHAR6yO5SZSQcBHrI7lJlJBwEesjuUmUkHAR6yO5SZSQcBHrI7lJlJBwEesjuUmUkHAR6yO5SZSQcBHsnec5U9BwEeyd5zlT0HAR7J3nOVPQcBHsnec5U9BwEeyd5zlT0HAR7J3nOVPQcBHsnec5U9BwEeyd5zlT0HAR7J3nOVPQcBHsnec5U9BwEi4YFOkTUHASLhgU6RNQcBIuGBTpE1BwEi4YFOkTUHASLhgU6RNQcBIuGBTpE1BwEi4YFOkTUHASLhgU6RNQcBIuGBTpE1BwEi4YFOkTUHASL5JCmNLQcBIvkkKY0tBwEi+SQpjS0HASL5JCmNLQcBIvkkKY0tBwEi+SQpjS0HASL5JCmNLQcBIvkkKY0tBwEi+SQpjS0HASL5JCmNLQcBIxDLBIUlBwEjEMsEhSUHASMQywSFJQcBIxDLBIUlBwEjEMsEhSUHASMQywSFJQcBIxDLBIUlBwEjEMsEhSUHASMQywSFJQcBIxDLBIUlBwEnKG3jgRkHAScobeOBGQcBJyht44EZBwEnKG3jgRkHAScobeOBGQcBJyht44EZBwEnKG3jgRkHAScobeOBGQcBJyht44EZBwEnKG3jgRkHASdAEL59EQcBJ0AQvn0RBwEnQBC+fREHASdAEL59EQcBJ0AQvn0RBwEnQBC+fREHASdAEL59EQcBJ0AQvn0RBwEnQBC+fREHASdAEL59EQcA=",
          "dtype": "f8",
          "shape": "10, 10"
         },
         "z": {
          "bdata": "AHAuaOGv40AA1ES5VTrsQACcLQVlYvJAANC4LZ+n9kAAAkRW2ez6QAA2z34TMv9AADSt06a7AUEAzfLnQ94DQQBnOPzgAAZBAAB+EH4jCEEAcC5o4a/jQADURLlVOuxAAJwtBWVi8kAA0Lgtn6f2QAACRFbZ7PpAADbPfhMy/0AANK3TprsBQQDN8udD3gNBAGc4/OAABkEAAH4QfiMIQQBwLmjhr+NAANREuVU67EAAnC0FZWLyQADQuC2fp/ZAAAJEVtns+kAANs9+EzL/QAA0rdOmuwFBAM3y50PeA0EAZzj84AAGQQAAfhB+IwhBAHAuaOGv40AA1ES5VTrsQACcLQVlYvJAANC4LZ+n9kAAAkRW2ez6QAA2z34TMv9AADSt06a7AUEAzfLnQ94DQQBnOPzgAAZBAAB+EH4jCEEAcC5o4a/jQADURLlVOuxAAJwtBWVi8kAA0Lgtn6f2QAACRFbZ7PpAADbPfhMy/0AANK3TprsBQQDN8udD3gNBAGc4/OAABkEAAH4QfiMIQQBwLmjhr+NAANREuVU67EAAnC0FZWLyQADQuC2fp/ZAAAJEVtns+kAANs9+EzL/QAA0rdOmuwFBAM3y50PeA0EAZzj84AAGQQAAfhB+IwhBAHAuaOGv40AA1ES5VTrsQACcLQVlYvJAANC4LZ+n9kAAAkRW2ez6QAA2z34TMv9AADSt06a7AUEAzfLnQ94DQQBnOPzgAAZBAAB+EH4jCEEAcC5o4a/jQADURLlVOuxAAJwtBWVi8kAA0Lgtn6f2QAACRFbZ7PpAADbPfhMy/0AANK3TprsBQQDN8udD3gNBAGc4/OAABkEAAH4QfiMIQQBwLmjhr+NAANREuVU67EAAnC0FZWLyQADQuC2fp/ZAAAJEVtns+kAANs9+EzL/QAA0rdOmuwFBAM3y50PeA0EAZzj84AAGQQAAfhB+IwhBAHAuaOGv40AA1ES5VTrsQACcLQVlYvJAANC4LZ+n9kAAAkRW2ez6QAA2z34TMv9AADSt06a7AUEAzfLnQ94DQQBnOPzgAAZBAAB+EH4jCEE=",
          "dtype": "f8",
          "shape": "10, 10"
         }
        }
       ],
       "layout": {
        "height": 500,
        "legend": {
         "tracegroupgap": 0
        },
        "margin": {
         "t": 60
        },
        "scene": {
         "domain": {
          "x": [
           0,
           1
          ],
          "y": [
           0,
           1
          ]
         },
         "xaxis": {
          "title": {
           "text": "longitude"
          }
         },
         "yaxis": {
          "title": {
           "text": "latitude"
          }
         },
         "zaxis": {
          "title": {
           "text": "price"
          }
         }
        },
        "template": {
         "data": {
          "bar": [
           {
            "error_x": {
             "color": "#2a3f5f"
            },
            "error_y": {
             "color": "#2a3f5f"
            },
            "marker": {
             "line": {
              "color": "#E5ECF6",
              "width": 0.5
             },
             "pattern": {
              "fillmode": "overlay",
              "size": 10,
              "solidity": 0.2
             }
            },
            "type": "bar"
           }
          ],
          "barpolar": [
           {
            "marker": {
             "line": {
              "color": "#E5ECF6",
              "width": 0.5
             },
             "pattern": {
              "fillmode": "overlay",
              "size": 10,
              "solidity": 0.2
             }
            },
            "type": "barpolar"
           }
          ],
          "carpet": [
           {
            "aaxis": {
             "endlinecolor": "#2a3f5f",
             "gridcolor": "white",
             "linecolor": "white",
             "minorgridcolor": "white",
             "startlinecolor": "#2a3f5f"
            },
            "baxis": {
             "endlinecolor": "#2a3f5f",
             "gridcolor": "white",
             "linecolor": "white",
             "minorgridcolor": "white",
             "startlinecolor": "#2a3f5f"
            },
            "type": "carpet"
           }
          ],
          "choropleth": [
           {
            "colorbar": {
             "outlinewidth": 0,
             "ticks": ""
            },
            "type": "choropleth"
           }
          ],
          "contour": [
           {
            "colorbar": {
             "outlinewidth": 0,
             "ticks": ""
            },
            "colorscale": [
             [
              0,
              "#0d0887"
             ],
             [
              0.1111111111111111,
              "#46039f"
             ],
             [
              0.2222222222222222,
              "#7201a8"
             ],
             [
              0.3333333333333333,
              "#9c179e"
             ],
             [
              0.4444444444444444,
              "#bd3786"
             ],
             [
              0.5555555555555556,
              "#d8576b"
             ],
             [
              0.6666666666666666,
              "#ed7953"
             ],
             [
              0.7777777777777778,
              "#fb9f3a"
             ],
             [
              0.8888888888888888,
              "#fdca26"
             ],
             [
              1,
              "#f0f921"
             ]
            ],
            "type": "contour"
           }
          ],
          "contourcarpet": [
           {
            "colorbar": {
             "outlinewidth": 0,
             "ticks": ""
            },
            "type": "contourcarpet"
           }
          ],
          "heatmap": [
           {
            "colorbar": {
             "outlinewidth": 0,
             "ticks": ""
            },
            "colorscale": [
             [
              0,
              "#0d0887"
             ],
             [
              0.1111111111111111,
              "#46039f"
             ],
             [
              0.2222222222222222,
              "#7201a8"
             ],
             [
              0.3333333333333333,
              "#9c179e"
             ],
             [
              0.4444444444444444,
              "#bd3786"
             ],
             [
              0.5555555555555556,
              "#d8576b"
             ],
             [
              0.6666666666666666,
              "#ed7953"
             ],
             [
              0.7777777777777778,
              "#fb9f3a"
             ],
             [
              0.8888888888888888,
              "#fdca26"
             ],
             [
              1,
              "#f0f921"
             ]
            ],
            "type": "heatmap"
           }
          ],
          "histogram": [
           {
            "marker": {
             "pattern": {
              "fillmode": "overlay",
              "size": 10,
              "solidity": 0.2
             }
            },
            "type": "histogram"
           }
          ],
          "histogram2d": [
           {
            "colorbar": {
             "outlinewidth": 0,
             "ticks": ""
            },
            "colorscale": [
             [
              0,
              "#0d0887"
             ],
             [
              0.1111111111111111,
              "#46039f"
             ],
             [
              0.2222222222222222,
              "#7201a8"
             ],
             [
              0.3333333333333333,
              "#9c179e"
             ],
             [
              0.4444444444444444,
              "#bd3786"
             ],
             [
              0.5555555555555556,
              "#d8576b"
             ],
             [
              0.6666666666666666,
              "#ed7953"
             ],
             [
              0.7777777777777778,
              "#fb9f3a"
             ],
             [
              0.8888888888888888,
              "#fdca26"
             ],
             [
              1,
              "#f0f921"
             ]
            ],
            "type": "histogram2d"
           }
          ],
          "histogram2dcontour": [
           {
            "colorbar": {
             "outlinewidth": 0,
             "ticks": ""
            },
            "colorscale": [
             [
              0,
              "#0d0887"
             ],
             [
              0.1111111111111111,
              "#46039f"
             ],
             [
              0.2222222222222222,
              "#7201a8"
             ],
             [
              0.3333333333333333,
              "#9c179e"
             ],
             [
              0.4444444444444444,
              "#bd3786"
             ],
             [
              0.5555555555555556,
              "#d8576b"
             ],
             [
              0.6666666666666666,
              "#ed7953"
             ],
             [
              0.7777777777777778,
              "#fb9f3a"
             ],
             [
              0.8888888888888888,
              "#fdca26"
             ],
             [
              1,
              "#f0f921"
             ]
            ],
            "type": "histogram2dcontour"
           }
          ],
          "mesh3d": [
           {
            "colorbar": {
             "outlinewidth": 0,
             "ticks": ""
            },
            "type": "mesh3d"
           }
          ],
          "parcoords": [
           {
            "line": {
             "colorbar": {
              "outlinewidth": 0,
              "ticks": ""
             }
            },
            "type": "parcoords"
           }
          ],
          "pie": [
           {
            "automargin": true,
            "type": "pie"
           }
          ],
          "scatter": [
           {
            "fillpattern": {
             "fillmode": "overlay",
             "size": 10,
             "solidity": 0.2
            },
            "type": "scatter"
           }
          ],
          "scatter3d": [
           {
            "line": {
             "colorbar": {
              "outlinewidth": 0,
              "ticks": ""
             }
            },
            "marker": {
             "colorbar": {
              "outlinewidth": 0,
              "ticks": ""
             }
            },
            "type": "scatter3d"
           }
          ],
          "scattercarpet": [
           {
            "marker": {
             "colorbar": {
              "outlinewidth": 0,
              "ticks": ""
             }
            },
            "type": "scattercarpet"
           }
          ],
          "scattergeo": [
           {
            "marker": {
             "colorbar": {
              "outlinewidth": 0,
              "ticks": ""
             }
            },
            "type": "scattergeo"
           }
          ],
          "scattergl": [
           {
            "marker": {
             "colorbar": {
              "outlinewidth": 0,
              "ticks": ""
             }
            },
            "type": "scattergl"
           }
          ],
          "scattermap": [
           {
            "marker": {
             "colorbar": {
              "outlinewidth": 0,
              "ticks": ""
             }
            },
            "type": "scattermap"
           }
          ],
          "scattermapbox": [
           {
            "marker": {
             "colorbar": {
              "outlinewidth": 0,
              "ticks": ""
             }
            },
            "type": "scattermapbox"
           }
          ],
          "scatterpolar": [
           {
            "marker": {
             "colorbar": {
              "outlinewidth": 0,
              "ticks": ""
             }
            },
            "type": "scatterpolar"
           }
          ],
          "scatterpolargl": [
           {
            "marker": {
             "colorbar": {
              "outlinewidth": 0,
              "ticks": ""
             }
            },
            "type": "scatterpolargl"
           }
          ],
          "scatterternary": [
           {
            "marker": {
             "colorbar": {
              "outlinewidth": 0,
              "ticks": ""
             }
            },
            "type": "scatterternary"
           }
          ],
          "surface": [
           {
            "colorbar": {
             "outlinewidth": 0,
             "ticks": ""
            },
            "colorscale": [
             [
              0,
              "#0d0887"
             ],
             [
              0.1111111111111111,
              "#46039f"
             ],
             [
              0.2222222222222222,
              "#7201a8"
             ],
             [
              0.3333333333333333,
              "#9c179e"
             ],
             [
              0.4444444444444444,
              "#bd3786"
             ],
             [
              0.5555555555555556,
              "#d8576b"
             ],
             [
              0.6666666666666666,
              "#ed7953"
             ],
             [
              0.7777777777777778,
              "#fb9f3a"
             ],
             [
              0.8888888888888888,
              "#fdca26"
             ],
             [
              1,
              "#f0f921"
             ]
            ],
            "type": "surface"
           }
          ],
          "table": [
           {
            "cells": {
             "fill": {
              "color": "#EBF0F8"
             },
             "line": {
              "color": "white"
             }
            },
            "header": {
             "fill": {
              "color": "#C8D4E3"
             },
             "line": {
              "color": "white"
             }
            },
            "type": "table"
           }
          ]
         },
         "layout": {
          "annotationdefaults": {
           "arrowcolor": "#2a3f5f",
           "arrowhead": 0,
           "arrowwidth": 1
          },
          "autotypenumbers": "strict",
          "coloraxis": {
           "colorbar": {
            "outlinewidth": 0,
            "ticks": ""
           }
          },
          "colorscale": {
           "diverging": [
            [
             0,
             "#8e0152"
            ],
            [
             0.1,
             "#c51b7d"
            ],
            [
             0.2,
             "#de77ae"
            ],
            [
             0.3,
             "#f1b6da"
            ],
            [
             0.4,
             "#fde0ef"
            ],
            [
             0.5,
             "#f7f7f7"
            ],
            [
             0.6,
             "#e6f5d0"
            ],
            [
             0.7,
             "#b8e186"
            ],
            [
             0.8,
             "#7fbc41"
            ],
            [
             0.9,
             "#4d9221"
            ],
            [
             1,
             "#276419"
            ]
           ],
           "sequential": [
            [
             0,
             "#0d0887"
            ],
            [
             0.1111111111111111,
             "#46039f"
            ],
            [
             0.2222222222222222,
             "#7201a8"
            ],
            [
             0.3333333333333333,
             "#9c179e"
            ],
            [
             0.4444444444444444,
             "#bd3786"
            ],
            [
             0.5555555555555556,
             "#d8576b"
            ],
            [
             0.6666666666666666,
             "#ed7953"
            ],
            [
             0.7777777777777778,
             "#fb9f3a"
            ],
            [
             0.8888888888888888,
             "#fdca26"
            ],
            [
             1,
             "#f0f921"
            ]
           ],
           "sequentialminus": [
            [
             0,
             "#0d0887"
            ],
            [
             0.1111111111111111,
             "#46039f"
            ],
            [
             0.2222222222222222,
             "#7201a8"
            ],
            [
             0.3333333333333333,
             "#9c179e"
            ],
            [
             0.4444444444444444,
             "#bd3786"
            ],
            [
             0.5555555555555556,
             "#d8576b"
            ],
            [
             0.6666666666666666,
             "#ed7953"
            ],
            [
             0.7777777777777778,
             "#fb9f3a"
            ],
            [
             0.8888888888888888,
             "#fdca26"
            ],
            [
             1,
             "#f0f921"
            ]
           ]
          },
          "colorway": [
           "#636efa",
           "#EF553B",
           "#00cc96",
           "#ab63fa",
           "#FFA15A",
           "#19d3f3",
           "#FF6692",
           "#B6E880",
           "#FF97FF",
           "#FECB52"
          ],
          "font": {
           "color": "#2a3f5f"
          },
          "geo": {
           "bgcolor": "white",
           "lakecolor": "white",
           "landcolor": "#E5ECF6",
           "showlakes": true,
           "showland": true,
           "subunitcolor": "white"
          },
          "hoverlabel": {
           "align": "left"
          },
          "hovermode": "closest",
          "mapbox": {
           "style": "light"
          },
          "paper_bgcolor": "white",
          "plot_bgcolor": "#E5ECF6",
          "polar": {
           "angularaxis": {
            "gridcolor": "white",
            "linecolor": "white",
            "ticks": ""
           },
           "bgcolor": "#E5ECF6",
           "radialaxis": {
            "gridcolor": "white",
            "linecolor": "white",
            "ticks": ""
           }
          },
          "scene": {
           "xaxis": {
            "backgroundcolor": "#E5ECF6",
            "gridcolor": "white",
            "gridwidth": 2,
            "linecolor": "white",
            "showbackground": true,
            "ticks": "",
            "zerolinecolor": "white"
           },
           "yaxis": {
            "backgroundcolor": "#E5ECF6",
            "gridcolor": "white",
            "gridwidth": 2,
            "linecolor": "white",
            "showbackground": true,
            "ticks": "",
            "zerolinecolor": "white"
           },
           "zaxis": {
            "backgroundcolor": "#E5ECF6",
            "gridcolor": "white",
            "gridwidth": 2,
            "linecolor": "white",
            "showbackground": true,
            "ticks": "",
            "zerolinecolor": "white"
           }
          },
          "shapedefaults": {
           "line": {
            "color": "#2a3f5f"
           }
          },
          "ternary": {
           "aaxis": {
            "gridcolor": "white",
            "linecolor": "white",
            "ticks": ""
           },
           "baxis": {
            "gridcolor": "white",
            "linecolor": "white",
            "ticks": ""
           },
           "bgcolor": "#E5ECF6",
           "caxis": {
            "gridcolor": "white",
            "linecolor": "white",
            "ticks": ""
           }
          },
          "title": {
           "x": 0.05
          },
          "xaxis": {
           "automargin": true,
           "gridcolor": "white",
           "linecolor": "white",
           "ticks": "",
           "title": {
            "standoff": 15
           },
           "zerolinecolor": "white",
           "zerolinewidth": 2
          },
          "yaxis": {
           "automargin": true,
           "gridcolor": "white",
           "linecolor": "white",
           "ticks": "",
           "title": {
            "standoff": 15
           },
           "zerolinecolor": "white",
           "zerolinewidth": 2
          }
         }
        },
        "width": 600
       }
      }
     },
     "metadata": {},
     "output_type": "display_data"
    }
   ],
   "source": [
    "# Create 3D scatter plot\n",
    "fig = px.scatter_3d(\n",
    "    df,\n",
    "    x= \"lon\",\n",
    "    y= \"lat\",\n",
    "    z= \"price_aprox_usd\",\n",
    "    labels={\"lon\": \"longitude\", \"lat\": \"latitude\", \"price_aprox_usd\": \"price\"},\n",
    "    width=600,\n",
    "    height=500,\n",
    ")\n",
    "\n",
    "# Create x and y coordinates for model representation\n",
    "x_plane = np.linspace(df[\"lon\"].min(), df[\"lon\"].max(), 10)\n",
    "y_plane = np.linspace(df[\"lat\"].min(), df[\"lat\"].max(), 10)\n",
    "xx, yy = np.meshgrid(x_plane, y_plane)\n",
    "\n",
    "# Use model to predict z coordinates\n",
    "z_plane = model.predict(pd.DataFrame({\"lon\": x_plane, \"lat\": y_plane}))\n",
    "zz = np.tile(z_plane, (10, 1))\n",
    "\n",
    "# Add plane to figure\n",
    "fig.add_trace(go.Surface(x=xx, y=yy, z=zz))\n",
    "\n",
    "# Refine formatting\n",
    "fig.update_traces(\n",
    "    marker={\"size\": 4, \"line\": {\"width\": 2, \"color\": \"DarkSlateGrey\"}},\n",
    "    selector={\"mode\": \"markers\"},\n",
    ")\n",
    "\n",
    "# Display figure\n",
    "fig.show()"
   ]
  },
  {
   "cell_type": "code",
   "execution_count": null,
   "id": "5142a8cb",
   "metadata": {},
   "outputs": [],
   "source": []
  }
 ],
 "metadata": {
  "kernelspec": {
   "display_name": "Python 3",
   "language": "python",
   "name": "python3"
  },
  "language_info": {
   "codemirror_mode": {
    "name": "ipython",
    "version": 3
   },
   "file_extension": ".py",
   "mimetype": "text/x-python",
   "name": "python",
   "nbconvert_exporter": "python",
   "pygments_lexer": "ipython3",
   "version": "3.11.9"
  }
 },
 "nbformat": 4,
 "nbformat_minor": 5
}
